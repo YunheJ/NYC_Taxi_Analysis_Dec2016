{
 "cells": [
  {
   "cell_type": "markdown",
   "id": "ca6ebbfd-86b2-4484-b934-d1efc86b0ea8",
   "metadata": {},
   "source": [
    "# Exploration of NYC green taxi trip records"
   ]
  },
  {
   "cell_type": "markdown",
   "id": "8af189af-c407-4b38-be0b-f38f3ddf9f51",
   "metadata": {},
   "source": [
    "The report analyzed trips of green taxi of NYC and mainly includes three parts.\n",
    "1. Overall trend of trips.\n",
    "2. Analysis on which features contribute to higher tip amount.\n",
    "3. Anomaly detection of the data."
   ]
  },
  {
   "cell_type": "code",
   "execution_count": 1,
   "id": "7b1c4656-253e-408a-a5de-4cfc2c32bf30",
   "metadata": {},
   "outputs": [],
   "source": [
    "import pandas as pd\n",
    "import numpy as np\n",
    "import plotly\n",
    "import matplotlib.pyplot as plt\n",
    "import seaborn as sns\n",
    "sns.set()\n",
    "import datetime\n",
    "import warnings\n",
    "from sklearn.preprocessing import StandardScaler\n",
    "warnings.filterwarnings(\"ignore\")"
   ]
  },
  {
   "cell_type": "markdown",
   "id": "2f4e83cb-fa87-4dc6-8ff6-9c3ab68ceadf",
   "metadata": {},
   "source": [
    "### Data set: New York City Green Taxi and Limousine Commission trip records\n",
    "### Data time range: December 2016"
   ]
  },
  {
   "cell_type": "markdown",
   "id": "0da665cd-bf56-4d25-b88c-a4462c4d9155",
   "metadata": {},
   "source": [
    "### Load data"
   ]
  },
  {
   "cell_type": "code",
   "execution_count": 2,
   "id": "eeda864d-8534-4042-b426-037f3dc78bbc",
   "metadata": {},
   "outputs": [
    {
     "data": {
      "text/html": [
       "<div>\n",
       "<style scoped>\n",
       "    .dataframe tbody tr th:only-of-type {\n",
       "        vertical-align: middle;\n",
       "    }\n",
       "\n",
       "    .dataframe tbody tr th {\n",
       "        vertical-align: top;\n",
       "    }\n",
       "\n",
       "    .dataframe thead th {\n",
       "        text-align: right;\n",
       "    }\n",
       "</style>\n",
       "<table border=\"1\" class=\"dataframe\">\n",
       "  <thead>\n",
       "    <tr style=\"text-align: right;\">\n",
       "      <th></th>\n",
       "      <th>VendorID</th>\n",
       "      <th>lpep_pickup_datetime</th>\n",
       "      <th>lpep_dropoff_datetime</th>\n",
       "      <th>store_and_fwd_flag</th>\n",
       "      <th>RatecodeID</th>\n",
       "      <th>PULocationID</th>\n",
       "      <th>DOLocationID</th>\n",
       "      <th>passenger_count</th>\n",
       "      <th>trip_distance</th>\n",
       "      <th>fare_amount</th>\n",
       "      <th>extra</th>\n",
       "      <th>mta_tax</th>\n",
       "      <th>tip_amount</th>\n",
       "      <th>tolls_amount</th>\n",
       "      <th>ehail_fee</th>\n",
       "      <th>improvement_surcharge</th>\n",
       "      <th>total_amount</th>\n",
       "      <th>payment_type</th>\n",
       "      <th>trip_type</th>\n",
       "    </tr>\n",
       "  </thead>\n",
       "  <tbody>\n",
       "    <tr>\n",
       "      <th>0</th>\n",
       "      <td>2</td>\n",
       "      <td>2016-12-01 00:00:54</td>\n",
       "      <td>2016-12-01 00:06:54</td>\n",
       "      <td>N</td>\n",
       "      <td>1</td>\n",
       "      <td>92</td>\n",
       "      <td>192</td>\n",
       "      <td>1</td>\n",
       "      <td>1.29</td>\n",
       "      <td>6.5</td>\n",
       "      <td>0.5</td>\n",
       "      <td>0.5</td>\n",
       "      <td>0.00</td>\n",
       "      <td>0.0</td>\n",
       "      <td>NaN</td>\n",
       "      <td>0.3</td>\n",
       "      <td>7.80</td>\n",
       "      <td>2</td>\n",
       "      <td>1</td>\n",
       "    </tr>\n",
       "    <tr>\n",
       "      <th>1</th>\n",
       "      <td>2</td>\n",
       "      <td>2016-12-01 00:52:41</td>\n",
       "      <td>2016-12-01 00:54:51</td>\n",
       "      <td>N</td>\n",
       "      <td>1</td>\n",
       "      <td>92</td>\n",
       "      <td>171</td>\n",
       "      <td>1</td>\n",
       "      <td>0.64</td>\n",
       "      <td>4.0</td>\n",
       "      <td>0.5</td>\n",
       "      <td>0.5</td>\n",
       "      <td>1.06</td>\n",
       "      <td>0.0</td>\n",
       "      <td>NaN</td>\n",
       "      <td>0.3</td>\n",
       "      <td>6.36</td>\n",
       "      <td>1</td>\n",
       "      <td>1</td>\n",
       "    </tr>\n",
       "    <tr>\n",
       "      <th>2</th>\n",
       "      <td>2</td>\n",
       "      <td>2016-12-01 00:10:39</td>\n",
       "      <td>2016-12-01 00:14:47</td>\n",
       "      <td>N</td>\n",
       "      <td>1</td>\n",
       "      <td>75</td>\n",
       "      <td>238</td>\n",
       "      <td>2</td>\n",
       "      <td>0.89</td>\n",
       "      <td>5.5</td>\n",
       "      <td>0.5</td>\n",
       "      <td>0.5</td>\n",
       "      <td>1.70</td>\n",
       "      <td>0.0</td>\n",
       "      <td>NaN</td>\n",
       "      <td>0.3</td>\n",
       "      <td>8.50</td>\n",
       "      <td>1</td>\n",
       "      <td>1</td>\n",
       "    </tr>\n",
       "    <tr>\n",
       "      <th>3</th>\n",
       "      <td>2</td>\n",
       "      <td>2016-12-01 00:12:16</td>\n",
       "      <td>2016-12-01 00:15:31</td>\n",
       "      <td>N</td>\n",
       "      <td>1</td>\n",
       "      <td>166</td>\n",
       "      <td>151</td>\n",
       "      <td>1</td>\n",
       "      <td>0.66</td>\n",
       "      <td>4.5</td>\n",
       "      <td>0.5</td>\n",
       "      <td>0.5</td>\n",
       "      <td>1.74</td>\n",
       "      <td>0.0</td>\n",
       "      <td>NaN</td>\n",
       "      <td>0.3</td>\n",
       "      <td>7.54</td>\n",
       "      <td>1</td>\n",
       "      <td>1</td>\n",
       "    </tr>\n",
       "    <tr>\n",
       "      <th>4</th>\n",
       "      <td>2</td>\n",
       "      <td>2016-12-01 00:29:22</td>\n",
       "      <td>2016-12-01 00:39:51</td>\n",
       "      <td>N</td>\n",
       "      <td>1</td>\n",
       "      <td>166</td>\n",
       "      <td>42</td>\n",
       "      <td>1</td>\n",
       "      <td>2.15</td>\n",
       "      <td>9.5</td>\n",
       "      <td>0.5</td>\n",
       "      <td>0.5</td>\n",
       "      <td>2.16</td>\n",
       "      <td>0.0</td>\n",
       "      <td>NaN</td>\n",
       "      <td>0.3</td>\n",
       "      <td>12.96</td>\n",
       "      <td>1</td>\n",
       "      <td>1</td>\n",
       "    </tr>\n",
       "  </tbody>\n",
       "</table>\n",
       "</div>"
      ],
      "text/plain": [
       "   VendorID lpep_pickup_datetime lpep_dropoff_datetime store_and_fwd_flag  \\\n",
       "0         2  2016-12-01 00:00:54   2016-12-01 00:06:54                  N   \n",
       "1         2  2016-12-01 00:52:41   2016-12-01 00:54:51                  N   \n",
       "2         2  2016-12-01 00:10:39   2016-12-01 00:14:47                  N   \n",
       "3         2  2016-12-01 00:12:16   2016-12-01 00:15:31                  N   \n",
       "4         2  2016-12-01 00:29:22   2016-12-01 00:39:51                  N   \n",
       "\n",
       "   RatecodeID  PULocationID  DOLocationID  passenger_count  trip_distance  \\\n",
       "0           1            92           192                1           1.29   \n",
       "1           1            92           171                1           0.64   \n",
       "2           1            75           238                2           0.89   \n",
       "3           1           166           151                1           0.66   \n",
       "4           1           166            42                1           2.15   \n",
       "\n",
       "   fare_amount  extra  mta_tax  tip_amount  tolls_amount  ehail_fee  \\\n",
       "0          6.5    0.5      0.5        0.00           0.0        NaN   \n",
       "1          4.0    0.5      0.5        1.06           0.0        NaN   \n",
       "2          5.5    0.5      0.5        1.70           0.0        NaN   \n",
       "3          4.5    0.5      0.5        1.74           0.0        NaN   \n",
       "4          9.5    0.5      0.5        2.16           0.0        NaN   \n",
       "\n",
       "   improvement_surcharge  total_amount  payment_type  trip_type  \n",
       "0                    0.3          7.80             2          1  \n",
       "1                    0.3          6.36             1          1  \n",
       "2                    0.3          8.50             1          1  \n",
       "3                    0.3          7.54             1          1  \n",
       "4                    0.3         12.96             1          1  "
      ]
     },
     "execution_count": 2,
     "metadata": {},
     "output_type": "execute_result"
    }
   ],
   "source": [
    "df = pd.read_csv('./green_tripdata_2016-12.csv.gz',index_col=False,compression='gzip',parse_dates=['lpep_pickup_datetime', 'lpep_dropoff_datetime'])\n",
    "df.head()"
   ]
  },
  {
   "cell_type": "markdown",
   "id": "72c1253c-33af-427e-ae12-16bdd1022e96",
   "metadata": {},
   "source": [
    "## 1. Characterize the data and comment about its quality"
   ]
  },
  {
   "cell_type": "markdown",
   "id": "202cb39b-0bfa-4068-abd7-51ea83f0a375",
   "metadata": {},
   "source": [
    "The data includes trip records of the whole month with payment related features and location, date and time of the trip."
   ]
  },
  {
   "cell_type": "markdown",
   "id": "a4ea635f-4334-42e0-adcf-2c6353da4ffb",
   "metadata": {},
   "source": [
    "All of columns are non-null except for 'ehail_fee'"
   ]
  },
  {
   "cell_type": "code",
   "execution_count": 3,
   "id": "49436251-cd71-483a-aa6d-ff86d02d15b9",
   "metadata": {},
   "outputs": [
    {
     "name": "stdout",
     "output_type": "stream",
     "text": [
      "<class 'pandas.core.frame.DataFrame'>\n",
      "RangeIndex: 1224158 entries, 0 to 1224157\n",
      "Data columns (total 19 columns):\n",
      " #   Column                 Non-Null Count    Dtype         \n",
      "---  ------                 --------------    -----         \n",
      " 0   VendorID               1224158 non-null  int64         \n",
      " 1   lpep_pickup_datetime   1224158 non-null  datetime64[ns]\n",
      " 2   lpep_dropoff_datetime  1224158 non-null  datetime64[ns]\n",
      " 3   store_and_fwd_flag     1224158 non-null  object        \n",
      " 4   RatecodeID             1224158 non-null  int64         \n",
      " 5   PULocationID           1224158 non-null  int64         \n",
      " 6   DOLocationID           1224158 non-null  int64         \n",
      " 7   passenger_count        1224158 non-null  int64         \n",
      " 8   trip_distance          1224158 non-null  float64       \n",
      " 9   fare_amount            1224158 non-null  float64       \n",
      " 10  extra                  1224158 non-null  float64       \n",
      " 11  mta_tax                1224158 non-null  float64       \n",
      " 12  tip_amount             1224158 non-null  float64       \n",
      " 13  tolls_amount           1224158 non-null  float64       \n",
      " 14  ehail_fee              0 non-null        float64       \n",
      " 15  improvement_surcharge  1224158 non-null  float64       \n",
      " 16  total_amount           1224158 non-null  float64       \n",
      " 17  payment_type           1224158 non-null  int64         \n",
      " 18  trip_type              1224158 non-null  int64         \n",
      "dtypes: datetime64[ns](2), float64(9), int64(7), object(1)\n",
      "memory usage: 177.5+ MB\n"
     ]
    }
   ],
   "source": [
    "df.info()"
   ]
  },
  {
   "cell_type": "code",
   "execution_count": 4,
   "id": "5bc15dee-9be1-4ea5-b416-6d72e07c1537",
   "metadata": {},
   "outputs": [
    {
     "data": {
      "text/html": [
       "<div>\n",
       "<style scoped>\n",
       "    .dataframe tbody tr th:only-of-type {\n",
       "        vertical-align: middle;\n",
       "    }\n",
       "\n",
       "    .dataframe tbody tr th {\n",
       "        vertical-align: top;\n",
       "    }\n",
       "\n",
       "    .dataframe thead th {\n",
       "        text-align: right;\n",
       "    }\n",
       "</style>\n",
       "<table border=\"1\" class=\"dataframe\">\n",
       "  <thead>\n",
       "    <tr style=\"text-align: right;\">\n",
       "      <th></th>\n",
       "      <th>VendorID</th>\n",
       "      <th>RatecodeID</th>\n",
       "      <th>PULocationID</th>\n",
       "      <th>DOLocationID</th>\n",
       "      <th>passenger_count</th>\n",
       "      <th>trip_distance</th>\n",
       "      <th>fare_amount</th>\n",
       "      <th>extra</th>\n",
       "      <th>mta_tax</th>\n",
       "      <th>tip_amount</th>\n",
       "      <th>tolls_amount</th>\n",
       "      <th>ehail_fee</th>\n",
       "      <th>improvement_surcharge</th>\n",
       "      <th>total_amount</th>\n",
       "      <th>payment_type</th>\n",
       "      <th>trip_type</th>\n",
       "    </tr>\n",
       "  </thead>\n",
       "  <tbody>\n",
       "    <tr>\n",
       "      <th>count</th>\n",
       "      <td>1.224158e+06</td>\n",
       "      <td>1.224158e+06</td>\n",
       "      <td>1.224158e+06</td>\n",
       "      <td>1.224158e+06</td>\n",
       "      <td>1.224158e+06</td>\n",
       "      <td>1.224158e+06</td>\n",
       "      <td>1.224158e+06</td>\n",
       "      <td>1.224158e+06</td>\n",
       "      <td>1.224158e+06</td>\n",
       "      <td>1.224158e+06</td>\n",
       "      <td>1.224158e+06</td>\n",
       "      <td>0.0</td>\n",
       "      <td>1.224158e+06</td>\n",
       "      <td>1.224158e+06</td>\n",
       "      <td>1.224158e+06</td>\n",
       "      <td>1.224158e+06</td>\n",
       "    </tr>\n",
       "    <tr>\n",
       "      <th>mean</th>\n",
       "      <td>1.799278e+00</td>\n",
       "      <td>1.085079e+00</td>\n",
       "      <td>1.131729e+02</td>\n",
       "      <td>1.290862e+02</td>\n",
       "      <td>1.362447e+00</td>\n",
       "      <td>2.618179e+00</td>\n",
       "      <td>1.159368e+01</td>\n",
       "      <td>3.629562e-01</td>\n",
       "      <td>4.872578e-01</td>\n",
       "      <td>1.128787e+00</td>\n",
       "      <td>9.456725e-02</td>\n",
       "      <td>NaN</td>\n",
       "      <td>2.925184e-01</td>\n",
       "      <td>1.399902e+01</td>\n",
       "      <td>1.534862e+00</td>\n",
       "      <td>1.019722e+00</td>\n",
       "    </tr>\n",
       "    <tr>\n",
       "      <th>std</th>\n",
       "      <td>4.005404e-01</td>\n",
       "      <td>5.660195e-01</td>\n",
       "      <td>7.628387e+01</td>\n",
       "      <td>7.723367e+01</td>\n",
       "      <td>1.036924e+00</td>\n",
       "      <td>2.806160e+00</td>\n",
       "      <td>9.793499e+00</td>\n",
       "      <td>3.901575e-01</td>\n",
       "      <td>8.517500e-02</td>\n",
       "      <td>2.216306e+00</td>\n",
       "      <td>8.808537e-01</td>\n",
       "      <td>NaN</td>\n",
       "      <td>5.072935e-02</td>\n",
       "      <td>1.112872e+01</td>\n",
       "      <td>5.240995e-01</td>\n",
       "      <td>1.390438e-01</td>\n",
       "    </tr>\n",
       "    <tr>\n",
       "      <th>min</th>\n",
       "      <td>1.000000e+00</td>\n",
       "      <td>1.000000e+00</td>\n",
       "      <td>1.000000e+00</td>\n",
       "      <td>1.000000e+00</td>\n",
       "      <td>0.000000e+00</td>\n",
       "      <td>0.000000e+00</td>\n",
       "      <td>-4.990000e+02</td>\n",
       "      <td>-4.500000e+00</td>\n",
       "      <td>-5.000000e-01</td>\n",
       "      <td>-1.056000e+01</td>\n",
       "      <td>-8.540000e+00</td>\n",
       "      <td>NaN</td>\n",
       "      <td>-3.000000e-01</td>\n",
       "      <td>-4.990000e+02</td>\n",
       "      <td>1.000000e+00</td>\n",
       "      <td>1.000000e+00</td>\n",
       "    </tr>\n",
       "    <tr>\n",
       "      <th>25%</th>\n",
       "      <td>2.000000e+00</td>\n",
       "      <td>1.000000e+00</td>\n",
       "      <td>4.900000e+01</td>\n",
       "      <td>6.100000e+01</td>\n",
       "      <td>1.000000e+00</td>\n",
       "      <td>9.800000e-01</td>\n",
       "      <td>6.000000e+00</td>\n",
       "      <td>0.000000e+00</td>\n",
       "      <td>5.000000e-01</td>\n",
       "      <td>0.000000e+00</td>\n",
       "      <td>0.000000e+00</td>\n",
       "      <td>NaN</td>\n",
       "      <td>3.000000e-01</td>\n",
       "      <td>7.800000e+00</td>\n",
       "      <td>1.000000e+00</td>\n",
       "      <td>1.000000e+00</td>\n",
       "    </tr>\n",
       "    <tr>\n",
       "      <th>50%</th>\n",
       "      <td>2.000000e+00</td>\n",
       "      <td>1.000000e+00</td>\n",
       "      <td>8.300000e+01</td>\n",
       "      <td>1.290000e+02</td>\n",
       "      <td>1.000000e+00</td>\n",
       "      <td>1.700000e+00</td>\n",
       "      <td>9.000000e+00</td>\n",
       "      <td>5.000000e-01</td>\n",
       "      <td>5.000000e-01</td>\n",
       "      <td>0.000000e+00</td>\n",
       "      <td>0.000000e+00</td>\n",
       "      <td>NaN</td>\n",
       "      <td>3.000000e-01</td>\n",
       "      <td>1.080000e+01</td>\n",
       "      <td>2.000000e+00</td>\n",
       "      <td>1.000000e+00</td>\n",
       "    </tr>\n",
       "    <tr>\n",
       "      <th>75%</th>\n",
       "      <td>2.000000e+00</td>\n",
       "      <td>1.000000e+00</td>\n",
       "      <td>1.730000e+02</td>\n",
       "      <td>1.930000e+02</td>\n",
       "      <td>1.000000e+00</td>\n",
       "      <td>3.200000e+00</td>\n",
       "      <td>1.400000e+01</td>\n",
       "      <td>5.000000e-01</td>\n",
       "      <td>5.000000e-01</td>\n",
       "      <td>1.860000e+00</td>\n",
       "      <td>0.000000e+00</td>\n",
       "      <td>NaN</td>\n",
       "      <td>3.000000e-01</td>\n",
       "      <td>1.656000e+01</td>\n",
       "      <td>2.000000e+00</td>\n",
       "      <td>1.000000e+00</td>\n",
       "    </tr>\n",
       "    <tr>\n",
       "      <th>max</th>\n",
       "      <td>2.000000e+00</td>\n",
       "      <td>6.000000e+00</td>\n",
       "      <td>2.650000e+02</td>\n",
       "      <td>2.650000e+02</td>\n",
       "      <td>9.000000e+00</td>\n",
       "      <td>1.475000e+02</td>\n",
       "      <td>1.007000e+03</td>\n",
       "      <td>4.500000e+00</td>\n",
       "      <td>5.000000e-01</td>\n",
       "      <td>2.507000e+02</td>\n",
       "      <td>2.979800e+02</td>\n",
       "      <td>NaN</td>\n",
       "      <td>3.000000e-01</td>\n",
       "      <td>1.008300e+03</td>\n",
       "      <td>5.000000e+00</td>\n",
       "      <td>2.000000e+00</td>\n",
       "    </tr>\n",
       "  </tbody>\n",
       "</table>\n",
       "</div>"
      ],
      "text/plain": [
       "           VendorID    RatecodeID  PULocationID  DOLocationID  \\\n",
       "count  1.224158e+06  1.224158e+06  1.224158e+06  1.224158e+06   \n",
       "mean   1.799278e+00  1.085079e+00  1.131729e+02  1.290862e+02   \n",
       "std    4.005404e-01  5.660195e-01  7.628387e+01  7.723367e+01   \n",
       "min    1.000000e+00  1.000000e+00  1.000000e+00  1.000000e+00   \n",
       "25%    2.000000e+00  1.000000e+00  4.900000e+01  6.100000e+01   \n",
       "50%    2.000000e+00  1.000000e+00  8.300000e+01  1.290000e+02   \n",
       "75%    2.000000e+00  1.000000e+00  1.730000e+02  1.930000e+02   \n",
       "max    2.000000e+00  6.000000e+00  2.650000e+02  2.650000e+02   \n",
       "\n",
       "       passenger_count  trip_distance   fare_amount         extra  \\\n",
       "count     1.224158e+06   1.224158e+06  1.224158e+06  1.224158e+06   \n",
       "mean      1.362447e+00   2.618179e+00  1.159368e+01  3.629562e-01   \n",
       "std       1.036924e+00   2.806160e+00  9.793499e+00  3.901575e-01   \n",
       "min       0.000000e+00   0.000000e+00 -4.990000e+02 -4.500000e+00   \n",
       "25%       1.000000e+00   9.800000e-01  6.000000e+00  0.000000e+00   \n",
       "50%       1.000000e+00   1.700000e+00  9.000000e+00  5.000000e-01   \n",
       "75%       1.000000e+00   3.200000e+00  1.400000e+01  5.000000e-01   \n",
       "max       9.000000e+00   1.475000e+02  1.007000e+03  4.500000e+00   \n",
       "\n",
       "            mta_tax    tip_amount  tolls_amount  ehail_fee  \\\n",
       "count  1.224158e+06  1.224158e+06  1.224158e+06        0.0   \n",
       "mean   4.872578e-01  1.128787e+00  9.456725e-02        NaN   \n",
       "std    8.517500e-02  2.216306e+00  8.808537e-01        NaN   \n",
       "min   -5.000000e-01 -1.056000e+01 -8.540000e+00        NaN   \n",
       "25%    5.000000e-01  0.000000e+00  0.000000e+00        NaN   \n",
       "50%    5.000000e-01  0.000000e+00  0.000000e+00        NaN   \n",
       "75%    5.000000e-01  1.860000e+00  0.000000e+00        NaN   \n",
       "max    5.000000e-01  2.507000e+02  2.979800e+02        NaN   \n",
       "\n",
       "       improvement_surcharge  total_amount  payment_type     trip_type  \n",
       "count           1.224158e+06  1.224158e+06  1.224158e+06  1.224158e+06  \n",
       "mean            2.925184e-01  1.399902e+01  1.534862e+00  1.019722e+00  \n",
       "std             5.072935e-02  1.112872e+01  5.240995e-01  1.390438e-01  \n",
       "min            -3.000000e-01 -4.990000e+02  1.000000e+00  1.000000e+00  \n",
       "25%             3.000000e-01  7.800000e+00  1.000000e+00  1.000000e+00  \n",
       "50%             3.000000e-01  1.080000e+01  2.000000e+00  1.000000e+00  \n",
       "75%             3.000000e-01  1.656000e+01  2.000000e+00  1.000000e+00  \n",
       "max             3.000000e-01  1.008300e+03  5.000000e+00  2.000000e+00  "
      ]
     },
     "execution_count": 4,
     "metadata": {},
     "output_type": "execute_result"
    }
   ],
   "source": [
    "df.describe()"
   ]
  },
  {
   "cell_type": "code",
   "execution_count": 5,
   "id": "3e0175af-1c05-416c-8c2b-a7862fa53e0c",
   "metadata": {},
   "outputs": [],
   "source": [
    "## drop ehail_fee which is all NULL\n",
    "df = df.drop('ehail_fee',axis=1)"
   ]
  },
  {
   "cell_type": "markdown",
   "id": "56200d3f-e43e-4cde-a86a-3e92f2147f21",
   "metadata": {},
   "source": [
    "## 2. Explore and visualize the data."
   ]
  },
  {
   "cell_type": "code",
   "execution_count": 6,
   "id": "4731f100-1f1d-43c2-a93c-c7fb5459a273",
   "metadata": {},
   "outputs": [],
   "source": [
    "def set_figure(ax,title1,title2,label = None):\n",
    "    ax[0].set_title(title1)\n",
    "    ax[1].set_title(title2)\n",
    "    if label is not None:\n",
    "        ax[0].set_xlabel(label)\n",
    "        ax[1].set_xlabel(label)\n",
    "    ax[0].set_ylabel('percentage')\n",
    "    ax[1].get_yaxis().set_visible(False)    \n",
    "    return "
   ]
  },
  {
   "cell_type": "markdown",
   "id": "024f58df-ed9c-4bac-b577-c36e486393f5",
   "metadata": {},
   "source": [
    "#### Distribution of trip distance before and after capping data"
   ]
  },
  {
   "cell_type": "markdown",
   "id": "08e4b309-3383-410f-bbe7-9088ae56abd1",
   "metadata": {},
   "source": [
    "Trip distance is extremely right skewed"
   ]
  },
  {
   "cell_type": "code",
   "execution_count": 7,
   "id": "7e061e13-0972-4cf8-82c8-ae3b20c4f6f1",
   "metadata": {},
   "outputs": [
    {
     "data": {
      "image/png": "[encoded data removed]",
      "text/plain": [
       "<Figure size 720x360 with 2 Axes>"
      ]
     },
     "metadata": {},
     "output_type": "display_data"
    }
   ],
   "source": [
    "fig, ax = plt.subplots(1,2,figsize=(10,5))\n",
    "sns.histplot(ax = ax[0],x = df.trip_distance,kde=True,stat='probability' )\n",
    "trip_distance_cap = df.trip_distance.quantile([0.995]).values[0]\n",
    "sns.histplot(ax = ax[1],x = df[df.trip_distance<=trip_distance_cap].trip_distance,kde=True,stat='probability' )\n",
    "set_figure(ax,title1='distribution of raw data',title2='distribution of data capped to 99.5%')\n",
    "plt.subplots_adjust(wspace=0.2)\n",
    "plt.show()"
   ]
  },
  {
   "cell_type": "markdown",
   "id": "40654aa5-3951-4e7b-9e57-ae8bd0a103d3",
   "metadata": {},
   "source": [
    "### Distribution of trip total charge amount before and after floor&capping data"
   ]
  },
  {
   "cell_type": "markdown",
   "id": "7f3358c9-78e0-4691-8389-1d692a88e4ed",
   "metadata": {},
   "source": [
    "~67% trips cost \\\\$5 ~ \\\\$15. However, ~0.2% total amount value are negtive which may be an input error or a trip with dispute. Total amount is also positively skewed."
   ]
  },
  {
   "cell_type": "code",
   "execution_count": 8,
   "id": "e571505a-b91b-40cd-abfe-508ebed474ce",
   "metadata": {},
   "outputs": [
    {
     "data": {
      "image/png": "[encoded data removed]",
      "text/plain": [
       "<Figure size 720x360 with 2 Axes>"
      ]
     },
     "metadata": {},
     "output_type": "display_data"
    }
   ],
   "source": [
    "fig, ax = plt.subplots(1,2,figsize=(10,5))\n",
    "sns.histplot(ax = ax[0],x = df.total_amount,kde=True,stat='probability' )\n",
    "trip_amount_cap = df.total_amount.quantile([0.01,0.995]).values\n",
    "sns.histplot(ax = ax[1],x = df[(df.total_amount<=trip_amount_cap[1])&(df.total_amount>=trip_amount_cap[0])].total_amount,kde=True,stat='probability' )\n",
    "set_figure(ax,title1='distribution of raw data',title2='distribution of data floored from 1% and capped to 99.5%')\n",
    "plt.subplots_adjust(wspace=0.2)\n",
    "plt.show()"
   ]
  },
  {
   "cell_type": "markdown",
   "id": "6b812867-b10d-4107-a4b8-553f279c03b4",
   "metadata": {},
   "source": [
    "### Derive duration of trip from pickup time and drop off time"
   ]
  },
  {
   "cell_type": "markdown",
   "id": "6596b86b-f52a-45a1-9717-09f5709154cc",
   "metadata": {},
   "source": [
    "Distribution of duration got heavy tail, nearly 63% trips take 5~20mins. For the extreme long trips, it is more likely that data is incorrectly recorded, will dig into the records in anomaly detection part. "
   ]
  },
  {
   "cell_type": "code",
   "execution_count": 9,
   "id": "9ecb19ee-295e-41c3-87a9-736e6c9c0fdb",
   "metadata": {},
   "outputs": [],
   "source": [
    "df['duration'] = (df['lpep_dropoff_datetime'] - df['lpep_pickup_datetime'])\n",
    "df['duration'] = df['duration'].apply(datetime.timedelta.total_seconds).apply(lambda x:x/60)"
   ]
  },
  {
   "cell_type": "code",
   "execution_count": 10,
   "id": "2fdcdb17-3e18-4641-9bb4-8b136e7cf514",
   "metadata": {},
   "outputs": [
    {
     "data": {
      "image/png": "[encoded data removed]",
      "text/plain": [
       "<Figure size 720x360 with 2 Axes>"
      ]
     },
     "metadata": {},
     "output_type": "display_data"
    }
   ],
   "source": [
    "fig, ax = plt.subplots(1,2,figsize=(10,5))\n",
    "sns.histplot(ax = ax[0],x = df.duration,kde=True,stat='probability' )\n",
    "trip_duration_cap = df.duration.quantile([0.99]).values[0]\n",
    "sns.histplot(ax = ax[1],x = df[df.duration<=trip_duration_cap].duration,kde=True,stat='probability' )\n",
    "set_figure(ax,title1='distribution of raw data',title2='distribution of data capped to 99%',label = 'duration(min)')\n",
    "plt.subplots_adjust(wspace=0.2)\n",
    "plt.show()"
   ]
  },
  {
   "cell_type": "markdown",
   "id": "29aa373d-6fbc-4d64-894e-ec2a125f4d5b",
   "metadata": {},
   "source": [
    "### Distribution of passenger count"
   ]
  },
  {
   "cell_type": "markdown",
   "id": "ca7d2683-ffb2-4f00-9d01-07a9193f84e1",
   "metadata": {},
   "source": [
    "over 80% of trips are for single passengers. For number of passengers in [0,7,8,9], we need a deeper exploration to check if data is correct"
   ]
  },
  {
   "cell_type": "code",
   "execution_count": 11,
   "id": "c3b6f792-bccd-48f8-88cb-aca03d2f0da4",
   "metadata": {},
   "outputs": [
    {
     "data": {
      "image/png": "[encoded data removed]",
      "text/plain": [
       "<Figure size 432x288 with 1 Axes>"
      ]
     },
     "metadata": {},
     "output_type": "display_data"
    }
   ],
   "source": [
    "df_passenger = df.groupby('passenger_count')['VendorID'].count().reset_index(name='trip count').sort_values('trip count',ascending=False)\n",
    "df_passenger['percentage'] = df_passenger['trip count']/df_passenger['trip count'].sum()\n",
    "sns.barplot(x = 'passenger_count',y='percentage',order=df_passenger.passenger_count.unique(),data = df_passenger)\n",
    "plt.show()"
   ]
  },
  {
   "cell_type": "markdown",
   "id": "ad23afa7-b671-4008-a8da-911114002bf5",
   "metadata": {},
   "source": [
    "### Distribution of payment type"
   ]
  },
  {
   "cell_type": "markdown",
   "id": "8fc445d7-46b9-405d-9c37-775ca8c98e85",
   "metadata": {},
   "source": [
    "Trips paid by credit card and cash are similarly ditributed. Most of trips are in range of \\\\$0~\\\\$200 "
   ]
  },
  {
   "cell_type": "code",
   "execution_count": 12,
   "id": "470ea2c5-3645-4a80-a379-68f509ba8a99",
   "metadata": {},
   "outputs": [
    {
     "data": {
      "image/png": "[encoded data removed]",
      "text/plain": [
       "<Figure size 360x360 with 1 Axes>"
      ]
     },
     "metadata": {},
     "output_type": "display_data"
    }
   ],
   "source": [
    "ax = sns.catplot(x = 'payment_type',y='total_amount',data = df)\n",
    "payment_type = ['credit card','cash','no charge','dispute','unknown']\n",
    "ax.set_xticklabels(payment_type)\n",
    "plt.show()"
   ]
  },
  {
   "cell_type": "markdown",
   "id": "9ce07959-d376-475b-807f-c0b74ec67367",
   "metadata": {},
   "source": [
    "## 3. Find interesting trip statistics grouped by hour"
   ]
  },
  {
   "cell_type": "code",
   "execution_count": 13,
   "id": "0edaa46b-8756-4af6-91d6-4eaac0d7bb28",
   "metadata": {},
   "outputs": [],
   "source": [
    "df['hour'] = df.lpep_pickup_datetime.dt.hour"
   ]
  },
  {
   "cell_type": "markdown",
   "id": "490e0ae2-44e0-4f48-afa9-7bf67237f815",
   "metadata": {},
   "source": [
    "compute median of extra fee, trip_distance, duration, and # of trips by hour. Choose median over mean to reduce impact of outliers."
   ]
  },
  {
   "cell_type": "code",
   "execution_count": 14,
   "id": "611c5698-7b71-4262-a300-8c1209365373",
   "metadata": {},
   "outputs": [],
   "source": [
    "df_hour = df.groupby(['hour']).agg({'duration':'median','trip_distance':'median','VendorID':'count','extra':'median'}).reset_index()\n",
    "df_hour = df_hour.rename(columns={'VendorID':'trip_count'})\n",
    "col = df_hour.columns[1:].values"
   ]
  },
  {
   "cell_type": "markdown",
   "id": "1793ec96-10fd-4c83-be31-31cdc82a8be6",
   "metadata": {},
   "source": [
    "1. Trip distance is relatively long in rush hour and over night.\n",
    "2. In daytime the average trip duration is longer than in night\n",
    "3. In rush hour, # of trips is more than other time period.\n",
    "4. From the distribution of extra fee, we can infer time interval. Overnight hour is 20:00 ~ 5:00, rush hour is 16:00 ~ 19:00 and normal hour is 6:00 ~ 15:00"
   ]
  },
  {
   "cell_type": "code",
   "execution_count": 15,
   "id": "cb0b1a9b-d432-4d1b-86f0-1af28fbdb41d",
   "metadata": {},
   "outputs": [
    {
     "data": {
      "image/png": "[encoded data removed]",
      "text/plain": [
       "<Figure size 720x432 with 4 Axes>"
      ]
     },
     "metadata": {},
     "output_type": "display_data"
    }
   ],
   "source": [
    "fig,ax = plt.subplots(2,2,figsize=(10,6))\n",
    "ax = ax.flatten()\n",
    "for idx,col in enumerate(['extra','trip_distance','duration','trip_count']):\n",
    "    sns.stripplot(ax = ax[idx],x='hour',y=col,data = df_hour)\n",
    "    ax[idx].set_title(col)\n",
    "plt.subplots_adjust(hspace=0.5)  "
   ]
  },
  {
   "cell_type": "markdown",
   "id": "d6276f32-16eb-47ac-a72f-7795a3d1e76e",
   "metadata": {},
   "source": [
    "## 4. The taxi drivers want to know what kind of trip yields better tips. Can you build a model for them and explain the model?"
   ]
  },
  {
   "cell_type": "markdown",
   "id": "35b6a538-e405-46e0-a973-89315fe48347",
   "metadata": {},
   "source": [
    "#### Feature Engineering"
   ]
  },
  {
   "cell_type": "markdown",
   "id": "6115975a-aee2-4126-826b-debb3b7698ff",
   "metadata": {},
   "source": [
    "Define time period category in each day."
   ]
  },
  {
   "cell_type": "code",
   "execution_count": 16,
   "id": "fdc29832-00e9-42b4-945d-58639211994c",
   "metadata": {},
   "outputs": [],
   "source": [
    "def hour_category(x):\n",
    "    if x in range(16,20):\n",
    "        return 'rush hour'\n",
    "    if x in range(20,24) or x in range(6):\n",
    "        return 'over night'\n",
    "    if x in range(6,16):\n",
    "        return 'normal'"
   ]
  },
  {
   "cell_type": "code",
   "execution_count": 17,
   "id": "1d05437e-bef6-4b82-8dbe-8f0c2d50ca1b",
   "metadata": {},
   "outputs": [],
   "source": [
    "df['hour_category'] = df['hour'].apply(lambda x: hour_category(x))"
   ]
  },
  {
   "cell_type": "markdown",
   "id": "6afe39f7-5f53-4771-a66d-71547536f3f8",
   "metadata": {},
   "source": [
    "Notice that Christmas holiday is in December, create holiday_flag to distinguish if the trip date is holiday."
   ]
  },
  {
   "cell_type": "code",
   "execution_count": 18,
   "id": "7f91f871-ba0e-4eec-8457-69a66f897bbd",
   "metadata": {},
   "outputs": [],
   "source": [
    "df['holiday_flag'] = df['lpep_pickup_datetime'].apply(lambda x: 1 if x.day in range(23,27) else 0)"
   ]
  },
  {
   "cell_type": "markdown",
   "id": "f93912d6-4b06-4165-b9e6-666782a9ede8",
   "metadata": {},
   "source": [
    "Add weekend_flag to split weekdays and weekends"
   ]
  },
  {
   "cell_type": "code",
   "execution_count": 19,
   "id": "20875368-7a9c-4402-a017-b1cbf8ba18f5",
   "metadata": {},
   "outputs": [],
   "source": [
    "df['weekend_flag'] = df['lpep_pickup_datetime'].apply(lambda x: 1 if x.weekday() in range(5,7) else 0)"
   ]
  },
  {
   "cell_type": "markdown",
   "id": "363aa1ef-80ad-4e52-9db8-6f651bfc7767",
   "metadata": {},
   "source": [
    "#### Filter out nonsense data records"
   ]
  },
  {
   "cell_type": "markdown",
   "id": "c9e893a8-04ff-4dc8-aa45-cbaf78beba16",
   "metadata": {},
   "source": [
    "In this data, tips are only populated by paid with credit card and cash tips are not included. So we only focus on data with payment type is credit card as model input."
   ]
  },
  {
   "cell_type": "code",
   "execution_count": 20,
   "id": "4697df2a-a379-4cbb-842c-5ad9b6e889e9",
   "metadata": {},
   "outputs": [],
   "source": [
    "# select trips paid with credit card\n",
    "df_credit = df[df['payment_type']==1]\n",
    "# select trips with duration>0\n",
    "df_credit = df_credit[df_credit['duration']>0]\n",
    "# select trips with tips>0\n",
    "df_credit = df_credit[df_credit['tip_amount']>0]\n",
    "# select trips with passenger count>0\n",
    "df_credit = df_credit[df_credit['passenger_count']>0]"
   ]
  },
  {
   "cell_type": "markdown",
   "id": "c1bfd572-e737-4015-bc5b-c172cbcada40",
   "metadata": {},
   "source": [
    "#### Capping target variable tip amount to 99.5% quantile"
   ]
  },
  {
   "cell_type": "code",
   "execution_count": 21,
   "id": "b8e71975-3bcc-4d6d-a1b3-747eff271c68",
   "metadata": {},
   "outputs": [],
   "source": [
    "quantile_y = df_credit.tip_amount.quantile([0.995]).values\n",
    "df_credit = df_credit[df_credit['tip_amount']<=quantile_y[0]]"
   ]
  },
  {
   "cell_type": "markdown",
   "id": "9d2e3dcf-a274-40d5-88af-a88b6e178b84",
   "metadata": {},
   "source": [
    "#### Generate correlation matrix for numerical variable"
   ]
  },
  {
   "cell_type": "markdown",
   "id": "505eac06-1040-48e3-8aa5-5a1b7bf1554c",
   "metadata": {},
   "source": [
    "From the correlation heatmap, tip amount is highly correlated with trip distance, fare amount and total_amount"
   ]
  },
  {
   "cell_type": "code",
   "execution_count": 22,
   "id": "a7ddcbb3-272c-4ef5-b052-a4b306ec4473",
   "metadata": {},
   "outputs": [],
   "source": [
    "col_num = ['tip_amount','trip_distance','fare_amount','extra','mta_tax','tolls_amount','duration','passenger_count','total_amount']"
   ]
  },
  {
   "cell_type": "code",
   "execution_count": 23,
   "id": "b48fa034-948b-470f-b5c3-5ca28c2cdf38",
   "metadata": {},
   "outputs": [
    {
     "data": {
      "image/png": "[encoded data removed]",
      "text/plain": [
       "<Figure size 1152x432 with 2 Axes>"
      ]
     },
     "metadata": {},
     "output_type": "display_data"
    }
   ],
   "source": [
    "plt.figure(figsize=(16, 6))\n",
    "sns.heatmap(df_credit[col_num].corr(),annot=True)\n",
    "plt.show()"
   ]
  },
  {
   "cell_type": "markdown",
   "id": "4946726d-b170-4044-8d97-8fdc1ebb692b",
   "metadata": {},
   "source": [
    "#### Generate correlation matrix for categorical variable"
   ]
  },
  {
   "cell_type": "code",
   "execution_count": 24,
   "id": "ffcd0c3c-f807-45ed-a765-64c799cbe0b1",
   "metadata": {},
   "outputs": [],
   "source": [
    "col_cat = ['VendorID','trip_type','holiday_flag','store_and_fwd_flag','weekend_flag','RatecodeID','hour_category','passenger_count']"
   ]
  },
  {
   "cell_type": "markdown",
   "id": "69802164-3c75-4969-99d9-28da363b0dcb",
   "metadata": {},
   "source": [
    "#### Bar plot of median of tip amount in each group"
   ]
  },
  {
   "cell_type": "code",
   "execution_count": 25,
   "id": "19e7f6c8-2ba2-43dc-a8a7-3420af6e283e",
   "metadata": {},
   "outputs": [],
   "source": [
    "def plot_multiple_categorical(X, Y, features, subplots_per_row = 4,top_n=20):\n",
    "    fig, ax = plt.subplots(2,4,figsize=(15,10))\n",
    "    ax = ax.flatten()\n",
    "    for idx,feature in enumerate(features):\n",
    "        tdf= X.groupby(feature)['tip_amount'].median().reset_index(name = 'tip_amount_median')\n",
    "        sns.barplot(ax = ax[idx],x = feature, y = 'tip_amount_median',data = tdf)\n",
    "    plt.subplots_adjust(hspace = .2, wspace = 0.5)"
   ]
  },
  {
   "cell_type": "markdown",
   "id": "ef88cf56-c51e-45df-81de-efba064f5c71",
   "metadata": {},
   "source": [
    "Among all of the categorical variables, weekend_flag, holiday_flag and hour_category show no obvious relationship with tip amount."
   ]
  },
  {
   "cell_type": "code",
   "execution_count": 26,
   "id": "f70567b1-fffe-4452-9471-e5e815d10e6f",
   "metadata": {},
   "outputs": [
    {
     "data": {
      "image/png": "[encoded data removed]",
      "text/plain": [
       "<Figure size 1080x720 with 8 Axes>"
      ]
     },
     "metadata": {},
     "output_type": "display_data"
    }
   ],
   "source": [
    "plot_multiple_categorical(df_credit,df_credit.tip_amount, col_cat)"
   ]
  },
  {
   "cell_type": "markdown",
   "id": "1d5455ed-99c3-4b99-9bc9-4a25529ab602",
   "metadata": {},
   "source": [
    "#### Combine infrequent engaged location to one group"
   ]
  },
  {
   "cell_type": "code",
   "execution_count": 27,
   "id": "12d5efc9-0c4c-4cde-b399-e3203d7487e8",
   "metadata": {},
   "outputs": [],
   "source": [
    "start_df = df_credit.groupby('PULocationID')['tip_amount'].agg({'median','count'}).reset_index().sort_values('count')\n",
    "start_df['percentage'] = start_df['count']/len(df_credit)"
   ]
  },
  {
   "cell_type": "code",
   "execution_count": 28,
   "id": "975206ad-28b7-4f2e-923e-82bf4679a8b3",
   "metadata": {},
   "outputs": [],
   "source": [
    "high_percentage_start = start_df[start_df['percentage']>0.01]['PULocationID'].values"
   ]
  },
  {
   "cell_type": "markdown",
   "id": "3da64181-1659-40b8-80e8-02e4f97279f7",
   "metadata": {},
   "source": [
    "selected engaged locations take ~85% of trips"
   ]
  },
  {
   "cell_type": "code",
   "execution_count": 29,
   "id": "fe66d37e-2e9c-4b4b-96e4-6bfa3d4a4a65",
   "metadata": {},
   "outputs": [
    {
     "data": {
      "text/plain": [
       "0.8533336321189059"
      ]
     },
     "execution_count": 29,
     "metadata": {},
     "output_type": "execute_result"
    }
   ],
   "source": [
    "start_df[start_df['percentage']>0.01]['percentage'].sum()"
   ]
  },
  {
   "cell_type": "code",
   "execution_count": 30,
   "id": "7d23837d-645d-44db-8c24-819c3fc0418d",
   "metadata": {},
   "outputs": [],
   "source": [
    "df_credit['PULocationID_new'] = df_credit['PULocationID'].apply(lambda x: x if x in high_percentage_start else 0)"
   ]
  },
  {
   "cell_type": "markdown",
   "id": "378352d9-60f0-4d08-9350-a00581e6c022",
   "metadata": {},
   "source": [
    "#### It's rare that passenger number is larger than 6, combine such cases to one group"
   ]
  },
  {
   "cell_type": "code",
   "execution_count": 31,
   "id": "9b009c90-df74-40ba-b886-de802fd8e2ca",
   "metadata": {},
   "outputs": [],
   "source": [
    "df_credit['passenger_count'] = df_credit['passenger_count'].apply(lambda x: 'other' if x>6 or x==0 else str(x))"
   ]
  },
  {
   "cell_type": "markdown",
   "id": "55fb6b8e-3425-4d6f-8df3-d5a70262631a",
   "metadata": {},
   "source": [
    "### Data split"
   ]
  },
  {
   "cell_type": "code",
   "execution_count": 32,
   "id": "48e3b092-7db8-458f-ae9b-96763cf411e8",
   "metadata": {},
   "outputs": [],
   "source": [
    "from sklearn.model_selection import train_test_split"
   ]
  },
  {
   "cell_type": "code",
   "execution_count": 33,
   "id": "e080c9d1-1af7-4f07-84f9-503c243c3664",
   "metadata": {},
   "outputs": [],
   "source": [
    "df_credit_input = df_credit.drop(['lpep_pickup_datetime','lpep_dropoff_datetime','payment_type','hour','PULocationID'],axis=1)"
   ]
  },
  {
   "cell_type": "code",
   "execution_count": 34,
   "id": "dd44f138-33da-464b-b790-689c8f159b63",
   "metadata": {},
   "outputs": [],
   "source": [
    "def split_sets(df, seed=3):\n",
    "    Y = df.tip_amount.values\n",
    "    X = df.drop(columns=['tip_amount'])\n",
    "    x_train_val, x_test, y_train_val, y_test = train_test_split(\n",
    "        X, Y, test_size=0.15, random_state=seed)\n",
    "    x_train_val = x_train_val.reset_index(drop=True)\n",
    "    x_test = x_test.reset_index(drop=True)\n",
    "    x_train, x_val, y_train, y_val = train_test_split(\n",
    "    x_train_val, y_train_val, test_size=0.2, random_state=seed)\n",
    "    return  x_train_val, x_train, x_test, x_val, y_train_val, y_train, y_test, y_val\n"
   ]
  },
  {
   "cell_type": "code",
   "execution_count": 35,
   "id": "588bafbd-262e-4b4d-87c4-f6864ee49be1",
   "metadata": {},
   "outputs": [],
   "source": [
    "x_train_val, x_train, x_test, x_val, y_train_val, y_train, y_test, y_val = split_sets(df_credit_input, seed=3)"
   ]
  },
  {
   "cell_type": "code",
   "execution_count": 36,
   "id": "41c51327-d348-4a0e-a32d-d80f1ce5dd5a",
   "metadata": {},
   "outputs": [
    {
     "data": {
      "text/plain": [
       "((333795, 18), (83449, 18), (73632, 18))"
      ]
     },
     "execution_count": 36,
     "metadata": {},
     "output_type": "execute_result"
    }
   ],
   "source": [
    "x_train.shape, x_val.shape, x_test.shape"
   ]
  },
  {
   "cell_type": "markdown",
   "id": "01488443-bfc5-41b4-93b9-2de416407ae0",
   "metadata": {},
   "source": [
    "### Label encoding for categorical variables with multiple value"
   ]
  },
  {
   "cell_type": "code",
   "execution_count": 37,
   "id": "702ea7bf-aea7-4a01-bb22-cfec643c8f1e",
   "metadata": {},
   "outputs": [],
   "source": [
    "from sklearn.preprocessing import LabelEncoder\n",
    "from sklearn.model_selection import PredefinedSplit\n",
    "from sklearn.ensemble import RandomForestRegressor\n",
    "from sklearn.model_selection import RandomizedSearchCV\n",
    "from datetime import datetime\n",
    "from sklearn.metrics import r2_score"
   ]
  },
  {
   "cell_type": "code",
   "execution_count": 38,
   "id": "1b381ea0-fc6f-4732-8495-826ec9687c0c",
   "metadata": {},
   "outputs": [],
   "source": [
    "le = LabelEncoder()\n",
    "for i in ['store_and_fwd_flag','hour_category','passenger_count']:\n",
    "    le.fit(x_train[i])\n",
    "    x_train[i] = le.transform(x_train[i])\n",
    "    x_train_val[i] = le.transform(x_train_val[i])\n",
    "    x_val[i] =  le.transform(x_val[i])\n",
    "    x_test[i] = le.transform(x_test[i])"
   ]
  },
  {
   "cell_type": "markdown",
   "id": "6dd7e650-99ac-408d-a11a-0117652710c6",
   "metadata": {},
   "source": [
    "### Random Forest"
   ]
  },
  {
   "cell_type": "markdown",
   "id": "0507db19-056b-4882-9285-702b03f5ffb0",
   "metadata": {},
   "source": [
    "This is a regression problem. Use random foreset based on regression tree over linear regression. The reason is most of features are skewed and high correlation among features, inference of coefficient would be inaccurate in this condition"
   ]
  },
  {
   "cell_type": "markdown",
   "id": "43b8f89c-27dc-48ee-9d80-c99eed5b6e2a",
   "metadata": {},
   "source": [
    "Random search for best hyperparameters"
   ]
  },
  {
   "cell_type": "code",
   "execution_count": 39,
   "id": "d32c0659-537a-4f07-9ba3-fcafc98b3303",
   "metadata": {},
   "outputs": [],
   "source": [
    "split_index = [-1 if x in x_train.index else 0 for x in x_train_val.index]\n",
    "pds = PredefinedSplit(test_fold = split_index)"
   ]
  },
  {
   "cell_type": "code",
   "execution_count": 40,
   "id": "166d32af-b50e-4c36-91f0-d3752190c2c8",
   "metadata": {},
   "outputs": [],
   "source": [
    "max_depth = [int(x) for x in np.linspace(5, 20, num = 5)]\n",
    "max_features = [x for x in np.linspace(0.1, 1, num = 5)]\n",
    "min_samples_leaf = [int(x) for x in np.linspace(6, 20, num = 5)]"
   ]
  },
  {
   "cell_type": "code",
   "execution_count": 41,
   "id": "8c595f75-4533-4f81-ac6d-d3485ae7a9f8",
   "metadata": {},
   "outputs": [],
   "source": [
    "random_grid = {'max_features': max_features,\n",
    "               'max_depth': max_depth,\n",
    "               'min_samples_leaf': min_samples_leaf}"
   ]
  },
  {
   "cell_type": "markdown",
   "id": "d3d0bd63-a547-406a-b307-98ee14384864",
   "metadata": {},
   "source": [
    "### Model training"
   ]
  },
  {
   "cell_type": "code",
   "execution_count": 42,
   "id": "b098f3e5-7e53-49f3-89d9-f3397f004ab7",
   "metadata": {},
   "outputs": [],
   "source": [
    "rf = RandomForestRegressor()"
   ]
  },
  {
   "cell_type": "code",
   "execution_count": 43,
   "id": "0c1ac5d1-f095-4cc7-822d-9e3776c3f8f1",
   "metadata": {},
   "outputs": [],
   "source": [
    "rf_random = RandomizedSearchCV(\n",
    "    estimator = rf, param_distributions = random_grid, scoring='neg_mean_squared_error',\n",
    "    n_iter = 30, cv = pds, random_state=42, verbose=2, n_jobs = -1)"
   ]
  },
  {
   "cell_type": "code",
   "execution_count": 44,
   "id": "b7fcef78-437c-476e-90f4-4ed10e10ab1c",
   "metadata": {},
   "outputs": [
    {
     "name": "stdout",
     "output_type": "stream",
     "text": [
      "Fitting 1 folds for each of 30 candidates, totalling 30 fits\n",
      "[CV] END max_depth=16, max_features=0.775, min_samples_leaf=9; total time= 5.7min\n",
      "[CV] END max_depth=16, max_features=0.1, min_samples_leaf=16; total time=  42.3s\n",
      "[CV] END ..max_depth=8, max_features=0.1, min_samples_leaf=9; total time=  29.0s\n",
      "[CV] END max_depth=5, max_features=0.55, min_samples_leaf=13; total time= 1.6min\n",
      "execution time:13.7 mins\n",
      "[CV] END max_depth=5, max_features=0.775, min_samples_leaf=16; total time= 2.2min\n",
      "[CV] END max_depth=8, max_features=0.775, min_samples_leaf=20; total time= 3.2min\n",
      "[CV] END max_depth=20, max_features=0.55, min_samples_leaf=20; total time= 4.2min\n",
      "[CV] END max_depth=12, max_features=0.325, min_samples_leaf=9; total time= 2.2min\n",
      "[CV] END .max_depth=16, max_features=1.0, min_samples_leaf=9; total time= 7.4min\n",
      "[CV] END max_depth=8, max_features=0.775, min_samples_leaf=13; total time= 3.4min\n",
      "[CV] END max_depth=16, max_features=0.1, min_samples_leaf=13; total time=  42.7s\n",
      "[CV] END .max_depth=5, max_features=0.55, min_samples_leaf=6; total time= 1.4min\n",
      "[CV] END .max_depth=8, max_features=1.0, min_samples_leaf=13; total time= 4.2min\n",
      "[CV] END .max_depth=16, max_features=0.1, min_samples_leaf=9; total time=  49.5s\n",
      "[CV] END .max_depth=5, max_features=0.1, min_samples_leaf=20; total time=  23.5s\n",
      "[CV] END .max_depth=8, max_features=0.1, min_samples_leaf=13; total time=  28.2s\n",
      "[CV] END max_depth=20, max_features=0.775, min_samples_leaf=9; total time= 6.0min\n",
      "[CV] END .max_depth=5, max_features=1.0, min_samples_leaf=20; total time= 2.3min\n",
      "[CV] END max_depth=12, max_features=0.1, min_samples_leaf=16; total time=  38.6s\n",
      "[CV] END max_depth=16, max_features=0.775, min_samples_leaf=16; total time= 5.6min\n",
      "[CV] END ..max_depth=5, max_features=0.1, min_samples_leaf=6; total time=  18.6s\n",
      "[CV] END max_depth=8, max_features=0.325, min_samples_leaf=9; total time= 1.6min\n",
      "[CV] END max_depth=20, max_features=0.325, min_samples_leaf=16; total time= 2.0min\n",
      "[CV] END .max_depth=8, max_features=0.55, min_samples_leaf=9; total time= 2.5min\n",
      "[CV] END max_depth=5, max_features=0.775, min_samples_leaf=20; total time= 2.0min\n",
      "[CV] END .max_depth=20, max_features=0.1, min_samples_leaf=9; total time=  49.1s\n",
      "[CV] END .max_depth=5, max_features=0.55, min_samples_leaf=9; total time= 1.5min\n",
      "[CV] END max_depth=12, max_features=0.775, min_samples_leaf=13; total time= 3.6min\n",
      "[CV] END max_depth=20, max_features=1.0, min_samples_leaf=16; total time= 8.1min\n",
      "[CV] END ..max_depth=8, max_features=1.0, min_samples_leaf=6; total time= 2.6min\n"
     ]
    }
   ],
   "source": [
    "time_start = datetime.now()\n",
    "rf_random.fit(x_train_val, y_train_val)\n",
    "time_end = datetime.now()\n",
    "print ('execution time:%s mins'%((time_end - time_start).seconds/60))"
   ]
  },
  {
   "cell_type": "markdown",
   "id": "efc25988-3f95-4423-9c4d-e245768c7f18",
   "metadata": {},
   "source": [
    "### Model performance"
   ]
  },
  {
   "cell_type": "code",
   "execution_count": 46,
   "id": "0a4db807-74cc-46c7-9486-d80516a65932",
   "metadata": {},
   "outputs": [
    {
     "data": {
      "text/html": [
       "<div>\n",
       "<style scoped>\n",
       "    .dataframe tbody tr th:only-of-type {\n",
       "        vertical-align: middle;\n",
       "    }\n",
       "\n",
       "    .dataframe tbody tr th {\n",
       "        vertical-align: top;\n",
       "    }\n",
       "\n",
       "    .dataframe thead th {\n",
       "        text-align: right;\n",
       "    }\n",
       "</style>\n",
       "<table border=\"1\" class=\"dataframe\">\n",
       "  <thead>\n",
       "    <tr style=\"text-align: right;\">\n",
       "      <th></th>\n",
       "      <th>r2</th>\n",
       "    </tr>\n",
       "  </thead>\n",
       "  <tbody>\n",
       "    <tr>\n",
       "      <th>train</th>\n",
       "      <td>0.985556</td>\n",
       "    </tr>\n",
       "    <tr>\n",
       "      <th>val</th>\n",
       "      <td>0.984803</td>\n",
       "    </tr>\n",
       "    <tr>\n",
       "      <th>test</th>\n",
       "      <td>0.981405</td>\n",
       "    </tr>\n",
       "  </tbody>\n",
       "</table>\n",
       "</div>"
      ],
      "text/plain": [
       "             r2\n",
       "train  0.985556\n",
       "val    0.984803\n",
       "test   0.981405"
      ]
     },
     "execution_count": 46,
     "metadata": {},
     "output_type": "execute_result"
    }
   ],
   "source": [
    "pd.DataFrame({'r2':[r2_score(y_train,rf_random.predict(x_train)),r2_score(y_val,rf_random.predict(x_val)),r2_score(y_test,rf_random.predict(x_test))]},index=['train','val','test'])"
   ]
  },
  {
   "cell_type": "markdown",
   "id": "90c960da-14b5-48da-8095-ee20a5a0c9b3",
   "metadata": {},
   "source": [
    "### Feature Importance"
   ]
  },
  {
   "cell_type": "markdown",
   "id": "a6a98ab3-843a-4b1f-bf78-ae1c93b9cfec",
   "metadata": {},
   "source": [
    "Tips largely depends on trip distance, drivers may get more tips they drive for longer distance."
   ]
  },
  {
   "cell_type": "code",
   "execution_count": 48,
   "id": "48ceade6-865c-4a79-b4dc-b99fcff77526",
   "metadata": {},
   "outputs": [],
   "source": [
    "importances = rf_random.best_estimator_.feature_importances_\n",
    "forest_importances = pd.Series(importances, index=x_train.columns)\n",
    "forest_importances = forest_importances.sort_values(ascending=False)"
   ]
  },
  {
   "cell_type": "code",
   "execution_count": 49,
   "id": "00141d00-3fbe-4f43-a807-8028f7439eeb",
   "metadata": {},
   "outputs": [
    {
     "data": {
      "image/png": "[encoded data removed]",
      "text/plain": [
       "<Figure size 432x288 with 1 Axes>"
      ]
     },
     "metadata": {},
     "output_type": "display_data"
    }
   ],
   "source": [
    "fig, ax = plt.subplots()\n",
    "forest_importances.plot.bar(color='#4daf4a')\n",
    "ax.set_title(\"Feature importances\")\n",
    "ax.set_ylabel(\"Mean decrease in impurity\")\n",
    "fig.tight_layout()"
   ]
  },
  {
   "cell_type": "markdown",
   "id": "b3855123-9b35-4a09-be98-a5039c11ec52",
   "metadata": {},
   "source": [
    "## Find an anomaly in the data and explain your findings."
   ]
  },
  {
   "cell_type": "markdown",
   "id": "db009123-51d0-485c-aac5-26daa08299fb",
   "metadata": {},
   "source": [
    "#### Incorrect Passenger_count"
   ]
  },
  {
   "cell_type": "markdown",
   "id": "6e21996a-8e14-47a3-8f51-8451d46b8b8a",
   "metadata": {},
   "source": [
    "Passenger_count is zero but in fact the taxi runs. This means driver wrongly input the passenger count. The percentage is ~0.003%."
   ]
  },
  {
   "cell_type": "markdown",
   "id": "676c28e5-010b-4714-a6b5-e3fd65aa5c67",
   "metadata": {},
   "source": [
    "By way of selecting pick up location is different from drop off location and duration of trip is longer than 1min, we can get real trips. Otherwise if the trip is cancelled, zero passenger count is correct."
   ]
  },
  {
   "cell_type": "code",
   "execution_count": 50,
   "id": "79d5680b-deb8-467e-8372-0186c5fa750a",
   "metadata": {},
   "outputs": [
    {
     "data": {
      "text/plain": [
       "0.0025323528498772214"
      ]
     },
     "execution_count": 50,
     "metadata": {},
     "output_type": "execute_result"
    }
   ],
   "source": [
    "df[(df['passenger_count']==0)&(df['PULocationID']!=df['DOLocationID'])&(df['duration']>1)].shape[0]/len(df)*100"
   ]
  },
  {
   "cell_type": "markdown",
   "id": "7e92e4cb-eaeb-4a4d-bba6-b95b9eb6ccd5",
   "metadata": {},
   "source": [
    "Maximum capacity of passenger is 6 for yellow taxi quoted from the FAQ on official website. For green taxi, suppose the capacity is similar so that it's abnormal that passenger count is larger than 6. Percentage is ~0.07%\\\n",
    "<img src=\"passenger_count.png\" width=500 height=500 />"
   ]
  },
  {
   "cell_type": "code",
   "execution_count": 51,
   "id": "c9db30ea-0463-42c0-9064-f924d4cad3ad",
   "metadata": {},
   "outputs": [
    {
     "data": {
      "text/plain": [
       "0.006698481731933296"
      ]
     },
     "execution_count": 51,
     "metadata": {},
     "output_type": "execute_result"
    }
   ],
   "source": [
    "df[df['passenger_count']>6].shape[0]/len(df)*100"
   ]
  },
  {
   "cell_type": "markdown",
   "id": "fcf54228-944b-4983-a435-aa69e38c5f38",
   "metadata": {},
   "source": [
    "#### Abnormal total amount"
   ]
  },
  {
   "cell_type": "markdown",
   "id": "30f10827-d3b8-404c-b488-c948100c4586",
   "metadata": {},
   "source": [
    "total amount should be positively correlated with trip distance or trip duration. However cases with large total_amount and short distance or small amount and long distance are potentially anomaly cases. "
   ]
  },
  {
   "cell_type": "code",
   "execution_count": 52,
   "id": "fc777fdc-be5d-4b16-86ec-130254e71201",
   "metadata": {},
   "outputs": [
    {
     "data": {
      "text/plain": [
       "<matplotlib.axes._subplots.AxesSubplot at 0x7f853ff6b760>"
      ]
     },
     "execution_count": 52,
     "metadata": {},
     "output_type": "execute_result"
    },
    {
     "data": {
      "image/png": "[encoded data removed]",
      "text/plain": [
       "<Figure size 432x288 with 1 Axes>"
      ]
     },
     "metadata": {},
     "output_type": "display_data"
    }
   ],
   "source": [
    "sns.scatterplot(df.total_amount,df.trip_distance)"
   ]
  },
  {
   "cell_type": "markdown",
   "id": "ae001b88-4ad8-4113-aeb7-08358b588318",
   "metadata": {},
   "source": [
    "### Case sample"
   ]
  },
  {
   "cell_type": "code",
   "execution_count": 53,
   "id": "7a581092-0600-4dbb-8088-4a9a4b3b3cd3",
   "metadata": {},
   "outputs": [
    {
     "data": {
      "text/html": [
       "<div>\n",
       "<style scoped>\n",
       "    .dataframe tbody tr th:only-of-type {\n",
       "        vertical-align: middle;\n",
       "    }\n",
       "\n",
       "    .dataframe tbody tr th {\n",
       "        vertical-align: top;\n",
       "    }\n",
       "\n",
       "    .dataframe thead th {\n",
       "        text-align: right;\n",
       "    }\n",
       "</style>\n",
       "<table border=\"1\" class=\"dataframe\">\n",
       "  <thead>\n",
       "    <tr style=\"text-align: right;\">\n",
       "      <th></th>\n",
       "      <th>VendorID</th>\n",
       "      <th>lpep_pickup_datetime</th>\n",
       "      <th>lpep_dropoff_datetime</th>\n",
       "      <th>store_and_fwd_flag</th>\n",
       "      <th>RatecodeID</th>\n",
       "      <th>PULocationID</th>\n",
       "      <th>DOLocationID</th>\n",
       "      <th>passenger_count</th>\n",
       "      <th>trip_distance</th>\n",
       "      <th>fare_amount</th>\n",
       "      <th>...</th>\n",
       "      <th>tolls_amount</th>\n",
       "      <th>improvement_surcharge</th>\n",
       "      <th>total_amount</th>\n",
       "      <th>payment_type</th>\n",
       "      <th>trip_type</th>\n",
       "      <th>duration</th>\n",
       "      <th>hour</th>\n",
       "      <th>hour_category</th>\n",
       "      <th>holiday_flag</th>\n",
       "      <th>weekend_flag</th>\n",
       "    </tr>\n",
       "  </thead>\n",
       "  <tbody>\n",
       "    <tr>\n",
       "      <th>11433</th>\n",
       "      <td>2</td>\n",
       "      <td>2016-12-01 11:26:05</td>\n",
       "      <td>2016-12-01 11:27:35</td>\n",
       "      <td>N</td>\n",
       "      <td>5</td>\n",
       "      <td>78</td>\n",
       "      <td>78</td>\n",
       "      <td>4</td>\n",
       "      <td>0.00</td>\n",
       "      <td>499.0</td>\n",
       "      <td>...</td>\n",
       "      <td>0.0</td>\n",
       "      <td>0.0</td>\n",
       "      <td>499.0</td>\n",
       "      <td>1</td>\n",
       "      <td>2</td>\n",
       "      <td>1.500000</td>\n",
       "      <td>11</td>\n",
       "      <td>normal</td>\n",
       "      <td>0</td>\n",
       "      <td>0</td>\n",
       "    </tr>\n",
       "    <tr>\n",
       "      <th>35954</th>\n",
       "      <td>2</td>\n",
       "      <td>2016-12-01 22:27:28</td>\n",
       "      <td>2016-12-01 22:27:37</td>\n",
       "      <td>N</td>\n",
       "      <td>5</td>\n",
       "      <td>166</td>\n",
       "      <td>166</td>\n",
       "      <td>1</td>\n",
       "      <td>0.00</td>\n",
       "      <td>215.0</td>\n",
       "      <td>...</td>\n",
       "      <td>0.0</td>\n",
       "      <td>0.0</td>\n",
       "      <td>215.0</td>\n",
       "      <td>1</td>\n",
       "      <td>2</td>\n",
       "      <td>0.150000</td>\n",
       "      <td>22</td>\n",
       "      <td>over night</td>\n",
       "      <td>0</td>\n",
       "      <td>0</td>\n",
       "    </tr>\n",
       "    <tr>\n",
       "      <th>37088</th>\n",
       "      <td>2</td>\n",
       "      <td>2016-12-01 22:15:47</td>\n",
       "      <td>2016-12-01 22:20:01</td>\n",
       "      <td>N</td>\n",
       "      <td>5</td>\n",
       "      <td>248</td>\n",
       "      <td>248</td>\n",
       "      <td>2</td>\n",
       "      <td>0.00</td>\n",
       "      <td>350.0</td>\n",
       "      <td>...</td>\n",
       "      <td>0.0</td>\n",
       "      <td>0.0</td>\n",
       "      <td>350.0</td>\n",
       "      <td>1</td>\n",
       "      <td>2</td>\n",
       "      <td>4.233333</td>\n",
       "      <td>22</td>\n",
       "      <td>over night</td>\n",
       "      <td>0</td>\n",
       "      <td>0</td>\n",
       "    </tr>\n",
       "    <tr>\n",
       "      <th>57375</th>\n",
       "      <td>2</td>\n",
       "      <td>2016-12-02 14:02:38</td>\n",
       "      <td>2016-12-02 14:56:39</td>\n",
       "      <td>N</td>\n",
       "      <td>1</td>\n",
       "      <td>122</td>\n",
       "      <td>122</td>\n",
       "      <td>1</td>\n",
       "      <td>0.01</td>\n",
       "      <td>26.5</td>\n",
       "      <td>...</td>\n",
       "      <td>0.0</td>\n",
       "      <td>0.3</td>\n",
       "      <td>278.0</td>\n",
       "      <td>1</td>\n",
       "      <td>1</td>\n",
       "      <td>54.016667</td>\n",
       "      <td>14</td>\n",
       "      <td>normal</td>\n",
       "      <td>0</td>\n",
       "      <td>0</td>\n",
       "    </tr>\n",
       "    <tr>\n",
       "      <th>59418</th>\n",
       "      <td>2</td>\n",
       "      <td>2016-12-02 15:00:08</td>\n",
       "      <td>2016-12-02 15:18:12</td>\n",
       "      <td>N</td>\n",
       "      <td>1</td>\n",
       "      <td>122</td>\n",
       "      <td>130</td>\n",
       "      <td>1</td>\n",
       "      <td>2.26</td>\n",
       "      <td>13.5</td>\n",
       "      <td>...</td>\n",
       "      <td>0.0</td>\n",
       "      <td>0.3</td>\n",
       "      <td>254.3</td>\n",
       "      <td>1</td>\n",
       "      <td>1</td>\n",
       "      <td>18.066667</td>\n",
       "      <td>15</td>\n",
       "      <td>normal</td>\n",
       "      <td>0</td>\n",
       "      <td>0</td>\n",
       "    </tr>\n",
       "    <tr>\n",
       "      <th>...</th>\n",
       "      <td>...</td>\n",
       "      <td>...</td>\n",
       "      <td>...</td>\n",
       "      <td>...</td>\n",
       "      <td>...</td>\n",
       "      <td>...</td>\n",
       "      <td>...</td>\n",
       "      <td>...</td>\n",
       "      <td>...</td>\n",
       "      <td>...</td>\n",
       "      <td>...</td>\n",
       "      <td>...</td>\n",
       "      <td>...</td>\n",
       "      <td>...</td>\n",
       "      <td>...</td>\n",
       "      <td>...</td>\n",
       "      <td>...</td>\n",
       "      <td>...</td>\n",
       "      <td>...</td>\n",
       "      <td>...</td>\n",
       "      <td>...</td>\n",
       "    </tr>\n",
       "    <tr>\n",
       "      <th>1107700</th>\n",
       "      <td>1</td>\n",
       "      <td>2016-12-29 00:08:21</td>\n",
       "      <td>2016-12-29 00:15:57</td>\n",
       "      <td>N</td>\n",
       "      <td>1</td>\n",
       "      <td>255</td>\n",
       "      <td>256</td>\n",
       "      <td>1</td>\n",
       "      <td>1.30</td>\n",
       "      <td>1007.0</td>\n",
       "      <td>...</td>\n",
       "      <td>0.0</td>\n",
       "      <td>0.3</td>\n",
       "      <td>1008.3</td>\n",
       "      <td>2</td>\n",
       "      <td>1</td>\n",
       "      <td>7.600000</td>\n",
       "      <td>0</td>\n",
       "      <td>over night</td>\n",
       "      <td>0</td>\n",
       "      <td>0</td>\n",
       "    </tr>\n",
       "    <tr>\n",
       "      <th>1132374</th>\n",
       "      <td>2</td>\n",
       "      <td>2016-12-29 20:59:33</td>\n",
       "      <td>2016-12-29 21:00:06</td>\n",
       "      <td>N</td>\n",
       "      <td>5</td>\n",
       "      <td>265</td>\n",
       "      <td>265</td>\n",
       "      <td>1</td>\n",
       "      <td>0.00</td>\n",
       "      <td>250.0</td>\n",
       "      <td>...</td>\n",
       "      <td>0.0</td>\n",
       "      <td>0.0</td>\n",
       "      <td>250.0</td>\n",
       "      <td>2</td>\n",
       "      <td>2</td>\n",
       "      <td>0.550000</td>\n",
       "      <td>20</td>\n",
       "      <td>over night</td>\n",
       "      <td>0</td>\n",
       "      <td>0</td>\n",
       "    </tr>\n",
       "    <tr>\n",
       "      <th>1144250</th>\n",
       "      <td>2</td>\n",
       "      <td>2016-12-30 08:27:43</td>\n",
       "      <td>2016-12-30 08:27:46</td>\n",
       "      <td>N</td>\n",
       "      <td>5</td>\n",
       "      <td>97</td>\n",
       "      <td>65</td>\n",
       "      <td>1</td>\n",
       "      <td>0.00</td>\n",
       "      <td>350.0</td>\n",
       "      <td>...</td>\n",
       "      <td>0.0</td>\n",
       "      <td>0.0</td>\n",
       "      <td>380.0</td>\n",
       "      <td>1</td>\n",
       "      <td>2</td>\n",
       "      <td>0.050000</td>\n",
       "      <td>8</td>\n",
       "      <td>normal</td>\n",
       "      <td>0</td>\n",
       "      <td>0</td>\n",
       "    </tr>\n",
       "    <tr>\n",
       "      <th>1146264</th>\n",
       "      <td>1</td>\n",
       "      <td>2016-12-30 09:13:06</td>\n",
       "      <td>2016-12-30 09:13:06</td>\n",
       "      <td>N</td>\n",
       "      <td>5</td>\n",
       "      <td>116</td>\n",
       "      <td>264</td>\n",
       "      <td>1</td>\n",
       "      <td>0.00</td>\n",
       "      <td>230.0</td>\n",
       "      <td>...</td>\n",
       "      <td>0.0</td>\n",
       "      <td>0.0</td>\n",
       "      <td>230.0</td>\n",
       "      <td>2</td>\n",
       "      <td>1</td>\n",
       "      <td>0.000000</td>\n",
       "      <td>9</td>\n",
       "      <td>normal</td>\n",
       "      <td>0</td>\n",
       "      <td>0</td>\n",
       "    </tr>\n",
       "    <tr>\n",
       "      <th>1222021</th>\n",
       "      <td>2</td>\n",
       "      <td>2016-12-31 23:38:22</td>\n",
       "      <td>2016-12-31 23:38:30</td>\n",
       "      <td>N</td>\n",
       "      <td>5</td>\n",
       "      <td>135</td>\n",
       "      <td>135</td>\n",
       "      <td>1</td>\n",
       "      <td>0.00</td>\n",
       "      <td>250.8</td>\n",
       "      <td>...</td>\n",
       "      <td>0.0</td>\n",
       "      <td>0.0</td>\n",
       "      <td>250.8</td>\n",
       "      <td>2</td>\n",
       "      <td>2</td>\n",
       "      <td>0.133333</td>\n",
       "      <td>23</td>\n",
       "      <td>over night</td>\n",
       "      <td>0</td>\n",
       "      <td>1</td>\n",
       "    </tr>\n",
       "  </tbody>\n",
       "</table>\n",
       "<p>84 rows × 23 columns</p>\n",
       "</div>"
      ],
      "text/plain": [
       "         VendorID lpep_pickup_datetime lpep_dropoff_datetime  \\\n",
       "11433           2  2016-12-01 11:26:05   2016-12-01 11:27:35   \n",
       "35954           2  2016-12-01 22:27:28   2016-12-01 22:27:37   \n",
       "37088           2  2016-12-01 22:15:47   2016-12-01 22:20:01   \n",
       "57375           2  2016-12-02 14:02:38   2016-12-02 14:56:39   \n",
       "59418           2  2016-12-02 15:00:08   2016-12-02 15:18:12   \n",
       "...           ...                  ...                   ...   \n",
       "1107700         1  2016-12-29 00:08:21   2016-12-29 00:15:57   \n",
       "1132374         2  2016-12-29 20:59:33   2016-12-29 21:00:06   \n",
       "1144250         2  2016-12-30 08:27:43   2016-12-30 08:27:46   \n",
       "1146264         1  2016-12-30 09:13:06   2016-12-30 09:13:06   \n",
       "1222021         2  2016-12-31 23:38:22   2016-12-31 23:38:30   \n",
       "\n",
       "        store_and_fwd_flag  RatecodeID  PULocationID  DOLocationID  \\\n",
       "11433                    N           5            78            78   \n",
       "35954                    N           5           166           166   \n",
       "37088                    N           5           248           248   \n",
       "57375                    N           1           122           122   \n",
       "59418                    N           1           122           130   \n",
       "...                    ...         ...           ...           ...   \n",
       "1107700                  N           1           255           256   \n",
       "1132374                  N           5           265           265   \n",
       "1144250                  N           5            97            65   \n",
       "1146264                  N           5           116           264   \n",
       "1222021                  N           5           135           135   \n",
       "\n",
       "         passenger_count  trip_distance  fare_amount  ...  tolls_amount  \\\n",
       "11433                  4           0.00        499.0  ...           0.0   \n",
       "35954                  1           0.00        215.0  ...           0.0   \n",
       "37088                  2           0.00        350.0  ...           0.0   \n",
       "57375                  1           0.01         26.5  ...           0.0   \n",
       "59418                  1           2.26         13.5  ...           0.0   \n",
       "...                  ...            ...          ...  ...           ...   \n",
       "1107700                1           1.30       1007.0  ...           0.0   \n",
       "1132374                1           0.00        250.0  ...           0.0   \n",
       "1144250                1           0.00        350.0  ...           0.0   \n",
       "1146264                1           0.00        230.0  ...           0.0   \n",
       "1222021                1           0.00        250.8  ...           0.0   \n",
       "\n",
       "         improvement_surcharge  total_amount  payment_type  trip_type  \\\n",
       "11433                      0.0         499.0             1          2   \n",
       "35954                      0.0         215.0             1          2   \n",
       "37088                      0.0         350.0             1          2   \n",
       "57375                      0.3         278.0             1          1   \n",
       "59418                      0.3         254.3             1          1   \n",
       "...                        ...           ...           ...        ...   \n",
       "1107700                    0.3        1008.3             2          1   \n",
       "1132374                    0.0         250.0             2          2   \n",
       "1144250                    0.0         380.0             1          2   \n",
       "1146264                    0.0         230.0             2          1   \n",
       "1222021                    0.0         250.8             2          2   \n",
       "\n",
       "          duration  hour  hour_category  holiday_flag  weekend_flag  \n",
       "11433     1.500000    11         normal             0             0  \n",
       "35954     0.150000    22     over night             0             0  \n",
       "37088     4.233333    22     over night             0             0  \n",
       "57375    54.016667    14         normal             0             0  \n",
       "59418    18.066667    15         normal             0             0  \n",
       "...            ...   ...            ...           ...           ...  \n",
       "1107700   7.600000     0     over night             0             0  \n",
       "1132374   0.550000    20     over night             0             0  \n",
       "1144250   0.050000     8         normal             0             0  \n",
       "1146264   0.000000     9         normal             0             0  \n",
       "1222021   0.133333    23     over night             0             1  \n",
       "\n",
       "[84 rows x 23 columns]"
      ]
     },
     "execution_count": 53,
     "metadata": {},
     "output_type": "execute_result"
    }
   ],
   "source": [
    "df[(df['total_amount']>200)&(df['trip_distance']<20)] ## large amount and short distance "
   ]
  },
  {
   "cell_type": "code",
   "execution_count": 148,
   "id": "9df70db0-55c4-40b2-91ec-cb880bf1665c",
   "metadata": {},
   "outputs": [
    {
     "data": {
      "text/html": [
       "<div>\n",
       "<style scoped>\n",
       "    .dataframe tbody tr th:only-of-type {\n",
       "        vertical-align: middle;\n",
       "    }\n",
       "\n",
       "    .dataframe tbody tr th {\n",
       "        vertical-align: top;\n",
       "    }\n",
       "\n",
       "    .dataframe thead th {\n",
       "        text-align: right;\n",
       "    }\n",
       "</style>\n",
       "<table border=\"1\" class=\"dataframe\">\n",
       "  <thead>\n",
       "    <tr style=\"text-align: right;\">\n",
       "      <th></th>\n",
       "      <th>VendorID</th>\n",
       "      <th>lpep_pickup_datetime</th>\n",
       "      <th>lpep_dropoff_datetime</th>\n",
       "      <th>store_and_fwd_flag</th>\n",
       "      <th>RatecodeID</th>\n",
       "      <th>PULocationID</th>\n",
       "      <th>DOLocationID</th>\n",
       "      <th>passenger_count</th>\n",
       "      <th>trip_distance</th>\n",
       "      <th>fare_amount</th>\n",
       "      <th>...</th>\n",
       "      <th>total_amount</th>\n",
       "      <th>payment_type</th>\n",
       "      <th>trip_type</th>\n",
       "      <th>duration</th>\n",
       "      <th>hour</th>\n",
       "      <th>hour_category</th>\n",
       "      <th>holiday_flag</th>\n",
       "      <th>weekend_flag</th>\n",
       "      <th>predicted</th>\n",
       "      <th>diff</th>\n",
       "    </tr>\n",
       "  </thead>\n",
       "  <tbody>\n",
       "    <tr>\n",
       "      <th>1010718</th>\n",
       "      <td>1</td>\n",
       "      <td>2016-12-25 12:48:25</td>\n",
       "      <td>2016-12-25 18:47:08</td>\n",
       "      <td>N</td>\n",
       "      <td>5</td>\n",
       "      <td>129</td>\n",
       "      <td>173</td>\n",
       "      <td>1</td>\n",
       "      <td>101.30</td>\n",
       "      <td>0.0</td>\n",
       "      <td>...</td>\n",
       "      <td>0.0</td>\n",
       "      <td>2</td>\n",
       "      <td>2</td>\n",
       "      <td>358.716667</td>\n",
       "      <td>12</td>\n",
       "      <td>normal</td>\n",
       "      <td>1</td>\n",
       "      <td>1</td>\n",
       "      <td>-1.205799</td>\n",
       "      <td>-1.205799</td>\n",
       "    </tr>\n",
       "    <tr>\n",
       "      <th>1011361</th>\n",
       "      <td>2</td>\n",
       "      <td>2016-12-25 13:44:43</td>\n",
       "      <td>2016-12-25 18:32:20</td>\n",
       "      <td>N</td>\n",
       "      <td>5</td>\n",
       "      <td>7</td>\n",
       "      <td>129</td>\n",
       "      <td>2</td>\n",
       "      <td>100.39</td>\n",
       "      <td>5.0</td>\n",
       "      <td>...</td>\n",
       "      <td>5.0</td>\n",
       "      <td>2</td>\n",
       "      <td>2</td>\n",
       "      <td>287.616667</td>\n",
       "      <td>13</td>\n",
       "      <td>normal</td>\n",
       "      <td>1</td>\n",
       "      <td>1</td>\n",
       "      <td>3.771287</td>\n",
       "      <td>-1.228713</td>\n",
       "    </tr>\n",
       "    <tr>\n",
       "      <th>1077103</th>\n",
       "      <td>2</td>\n",
       "      <td>2016-12-28 01:23:52</td>\n",
       "      <td>2016-12-28 03:01:41</td>\n",
       "      <td>N</td>\n",
       "      <td>4</td>\n",
       "      <td>76</td>\n",
       "      <td>265</td>\n",
       "      <td>3</td>\n",
       "      <td>61.71</td>\n",
       "      <td>0.0</td>\n",
       "      <td>...</td>\n",
       "      <td>0.0</td>\n",
       "      <td>2</td>\n",
       "      <td>1</td>\n",
       "      <td>97.816667</td>\n",
       "      <td>1</td>\n",
       "      <td>over night</td>\n",
       "      <td>0</td>\n",
       "      <td>0</td>\n",
       "      <td>-1.205799</td>\n",
       "      <td>-1.205799</td>\n",
       "    </tr>\n",
       "    <tr>\n",
       "      <th>1160413</th>\n",
       "      <td>2</td>\n",
       "      <td>2016-12-30 17:15:44</td>\n",
       "      <td>2016-12-30 20:45:36</td>\n",
       "      <td>N</td>\n",
       "      <td>1</td>\n",
       "      <td>265</td>\n",
       "      <td>188</td>\n",
       "      <td>2</td>\n",
       "      <td>79.54</td>\n",
       "      <td>0.0</td>\n",
       "      <td>...</td>\n",
       "      <td>0.0</td>\n",
       "      <td>2</td>\n",
       "      <td>1</td>\n",
       "      <td>209.866667</td>\n",
       "      <td>17</td>\n",
       "      <td>rush hour</td>\n",
       "      <td>0</td>\n",
       "      <td>0</td>\n",
       "      <td>-1.205799</td>\n",
       "      <td>-1.205799</td>\n",
       "    </tr>\n",
       "  </tbody>\n",
       "</table>\n",
       "<p>4 rows × 26 columns</p>\n",
       "</div>"
      ],
      "text/plain": [
       "         VendorID lpep_pickup_datetime lpep_dropoff_datetime  \\\n",
       "1010718         1  2016-12-25 12:48:25   2016-12-25 18:47:08   \n",
       "1011361         2  2016-12-25 13:44:43   2016-12-25 18:32:20   \n",
       "1077103         2  2016-12-28 01:23:52   2016-12-28 03:01:41   \n",
       "1160413         2  2016-12-30 17:15:44   2016-12-30 20:45:36   \n",
       "\n",
       "        store_and_fwd_flag  RatecodeID  PULocationID  DOLocationID  \\\n",
       "1010718                  N           5           129           173   \n",
       "1011361                  N           5             7           129   \n",
       "1077103                  N           4            76           265   \n",
       "1160413                  N           1           265           188   \n",
       "\n",
       "         passenger_count  trip_distance  fare_amount  ...  total_amount  \\\n",
       "1010718                1         101.30          0.0  ...           0.0   \n",
       "1011361                2         100.39          5.0  ...           5.0   \n",
       "1077103                3          61.71          0.0  ...           0.0   \n",
       "1160413                2          79.54          0.0  ...           0.0   \n",
       "\n",
       "         payment_type  trip_type    duration  hour  hour_category  \\\n",
       "1010718             2          2  358.716667    12         normal   \n",
       "1011361             2          2  287.616667    13         normal   \n",
       "1077103             2          1   97.816667     1     over night   \n",
       "1160413             2          1  209.866667    17      rush hour   \n",
       "\n",
       "         holiday_flag  weekend_flag  predicted      diff  \n",
       "1010718             1             1  -1.205799 -1.205799  \n",
       "1011361             1             1   3.771287 -1.228713  \n",
       "1077103             0             0  -1.205799 -1.205799  \n",
       "1160413             0             0  -1.205799 -1.205799  \n",
       "\n",
       "[4 rows x 26 columns]"
      ]
     },
     "execution_count": 148,
     "metadata": {},
     "output_type": "execute_result"
    }
   ],
   "source": [
    "df[(df['total_amount']<20)&(df['trip_distance']>60)]  ## small amount and long distance "
   ]
  },
  {
   "cell_type": "markdown",
   "id": "7d7ebf0b-cd1e-4736-b350-81be171ecbf9",
   "metadata": {},
   "source": [
    "## Improvement in the future"
   ]
  },
  {
   "cell_type": "markdown",
   "id": "ec963f76-fd1c-4720-a77b-050b08526aea",
   "metadata": {},
   "source": [
    "1. In anomaly detection part, the threshold is generated from scatter plot by eye. We can try to use outlier detection methods eg three sigma to get the threshold.\n",
    "2. Given anomal records found, we can retrain the model after removing the abnormal data to improve model performance."
   ]
  },
  {
   "cell_type": "code",
   "execution_count": 57,
   "id": "e786858f-aa12-407d-afbf-55f71a70ed82",
   "metadata": {},
   "outputs": [
    {
     "data": {
      "text/html": [
       "<div>\n",
       "<style scoped>\n",
       "    .dataframe tbody tr th:only-of-type {\n",
       "        vertical-align: middle;\n",
       "    }\n",
       "\n",
       "    .dataframe tbody tr th {\n",
       "        vertical-align: top;\n",
       "    }\n",
       "\n",
       "    .dataframe thead th {\n",
       "        text-align: right;\n",
       "    }\n",
       "</style>\n",
       "<table border=\"1\" class=\"dataframe\">\n",
       "  <thead>\n",
       "    <tr style=\"text-align: right;\">\n",
       "      <th></th>\n",
       "      <th>VendorID</th>\n",
       "      <th>lpep_pickup_datetime</th>\n",
       "      <th>lpep_dropoff_datetime</th>\n",
       "      <th>store_and_fwd_flag</th>\n",
       "      <th>RatecodeID</th>\n",
       "      <th>PULocationID</th>\n",
       "      <th>DOLocationID</th>\n",
       "      <th>passenger_count</th>\n",
       "      <th>trip_distance</th>\n",
       "      <th>fare_amount</th>\n",
       "      <th>extra</th>\n",
       "      <th>mta_tax</th>\n",
       "      <th>tip_amount</th>\n",
       "      <th>tolls_amount</th>\n",
       "      <th>ehail_fee</th>\n",
       "      <th>improvement_surcharge</th>\n",
       "      <th>total_amount</th>\n",
       "      <th>payment_type</th>\n",
       "      <th>trip_type</th>\n",
       "    </tr>\n",
       "  </thead>\n",
       "  <tbody>\n",
       "    <tr>\n",
       "      <th>0</th>\n",
       "      <td>2</td>\n",
       "      <td>2016-12-01 00:00:54</td>\n",
       "      <td>2016-12-01 00:06:54</td>\n",
       "      <td>N</td>\n",
       "      <td>1</td>\n",
       "      <td>92</td>\n",
       "      <td>192</td>\n",
       "      <td>1</td>\n",
       "      <td>1.29</td>\n",
       "      <td>6.5</td>\n",
       "      <td>0.5</td>\n",
       "      <td>0.5</td>\n",
       "      <td>0.00</td>\n",
       "      <td>0.0</td>\n",
       "      <td>NaN</td>\n",
       "      <td>0.3</td>\n",
       "      <td>7.80</td>\n",
       "      <td>2</td>\n",
       "      <td>1</td>\n",
       "    </tr>\n",
       "    <tr>\n",
       "      <th>1</th>\n",
       "      <td>2</td>\n",
       "      <td>2016-12-01 00:52:41</td>\n",
       "      <td>2016-12-01 00:54:51</td>\n",
       "      <td>N</td>\n",
       "      <td>1</td>\n",
       "      <td>92</td>\n",
       "      <td>171</td>\n",
       "      <td>1</td>\n",
       "      <td>0.64</td>\n",
       "      <td>4.0</td>\n",
       "      <td>0.5</td>\n",
       "      <td>0.5</td>\n",
       "      <td>1.06</td>\n",
       "      <td>0.0</td>\n",
       "      <td>NaN</td>\n",
       "      <td>0.3</td>\n",
       "      <td>6.36</td>\n",
       "      <td>1</td>\n",
       "      <td>1</td>\n",
       "    </tr>\n",
       "    <tr>\n",
       "      <th>2</th>\n",
       "      <td>2</td>\n",
       "      <td>2016-12-01 00:10:39</td>\n",
       "      <td>2016-12-01 00:14:47</td>\n",
       "      <td>N</td>\n",
       "      <td>1</td>\n",
       "      <td>75</td>\n",
       "      <td>238</td>\n",
       "      <td>2</td>\n",
       "      <td>0.89</td>\n",
       "      <td>5.5</td>\n",
       "      <td>0.5</td>\n",
       "      <td>0.5</td>\n",
       "      <td>1.70</td>\n",
       "      <td>0.0</td>\n",
       "      <td>NaN</td>\n",
       "      <td>0.3</td>\n",
       "      <td>8.50</td>\n",
       "      <td>1</td>\n",
       "      <td>1</td>\n",
       "    </tr>\n",
       "    <tr>\n",
       "      <th>3</th>\n",
       "      <td>2</td>\n",
       "      <td>2016-12-01 00:12:16</td>\n",
       "      <td>2016-12-01 00:15:31</td>\n",
       "      <td>N</td>\n",
       "      <td>1</td>\n",
       "      <td>166</td>\n",
       "      <td>151</td>\n",
       "      <td>1</td>\n",
       "      <td>0.66</td>\n",
       "      <td>4.5</td>\n",
       "      <td>0.5</td>\n",
       "      <td>0.5</td>\n",
       "      <td>1.74</td>\n",
       "      <td>0.0</td>\n",
       "      <td>NaN</td>\n",
       "      <td>0.3</td>\n",
       "      <td>7.54</td>\n",
       "      <td>1</td>\n",
       "      <td>1</td>\n",
       "    </tr>\n",
       "    <tr>\n",
       "      <th>4</th>\n",
       "      <td>2</td>\n",
       "      <td>2016-12-01 00:29:22</td>\n",
       "      <td>2016-12-01 00:39:51</td>\n",
       "      <td>N</td>\n",
       "      <td>1</td>\n",
       "      <td>166</td>\n",
       "      <td>42</td>\n",
       "      <td>1</td>\n",
       "      <td>2.15</td>\n",
       "      <td>9.5</td>\n",
       "      <td>0.5</td>\n",
       "      <td>0.5</td>\n",
       "      <td>2.16</td>\n",
       "      <td>0.0</td>\n",
       "      <td>NaN</td>\n",
       "      <td>0.3</td>\n",
       "      <td>12.96</td>\n",
       "      <td>1</td>\n",
       "      <td>1</td>\n",
       "    </tr>\n",
       "    <tr>\n",
       "      <th>...</th>\n",
       "      <td>...</td>\n",
       "      <td>...</td>\n",
       "      <td>...</td>\n",
       "      <td>...</td>\n",
       "      <td>...</td>\n",
       "      <td>...</td>\n",
       "      <td>...</td>\n",
       "      <td>...</td>\n",
       "      <td>...</td>\n",
       "      <td>...</td>\n",
       "      <td>...</td>\n",
       "      <td>...</td>\n",
       "      <td>...</td>\n",
       "      <td>...</td>\n",
       "      <td>...</td>\n",
       "      <td>...</td>\n",
       "      <td>...</td>\n",
       "      <td>...</td>\n",
       "      <td>...</td>\n",
       "    </tr>\n",
       "    <tr>\n",
       "      <th>1224153</th>\n",
       "      <td>1</td>\n",
       "      <td>2016-12-31 23:00:16</td>\n",
       "      <td>2016-12-31 23:05:30</td>\n",
       "      <td>N</td>\n",
       "      <td>1</td>\n",
       "      <td>74</td>\n",
       "      <td>75</td>\n",
       "      <td>1</td>\n",
       "      <td>1.20</td>\n",
       "      <td>6.0</td>\n",
       "      <td>0.5</td>\n",
       "      <td>0.5</td>\n",
       "      <td>0.00</td>\n",
       "      <td>0.0</td>\n",
       "      <td>NaN</td>\n",
       "      <td>0.3</td>\n",
       "      <td>7.30</td>\n",
       "      <td>2</td>\n",
       "      <td>1</td>\n",
       "    </tr>\n",
       "    <tr>\n",
       "      <th>1224154</th>\n",
       "      <td>1</td>\n",
       "      <td>2016-12-31 23:00:20</td>\n",
       "      <td>2016-12-31 23:04:05</td>\n",
       "      <td>N</td>\n",
       "      <td>1</td>\n",
       "      <td>42</td>\n",
       "      <td>41</td>\n",
       "      <td>3</td>\n",
       "      <td>1.00</td>\n",
       "      <td>5.5</td>\n",
       "      <td>0.5</td>\n",
       "      <td>0.5</td>\n",
       "      <td>0.00</td>\n",
       "      <td>0.0</td>\n",
       "      <td>NaN</td>\n",
       "      <td>0.3</td>\n",
       "      <td>6.80</td>\n",
       "      <td>2</td>\n",
       "      <td>1</td>\n",
       "    </tr>\n",
       "    <tr>\n",
       "      <th>1224155</th>\n",
       "      <td>1</td>\n",
       "      <td>2016-12-31 23:00:08</td>\n",
       "      <td>2016-12-31 23:15:57</td>\n",
       "      <td>N</td>\n",
       "      <td>1</td>\n",
       "      <td>243</td>\n",
       "      <td>159</td>\n",
       "      <td>1</td>\n",
       "      <td>5.30</td>\n",
       "      <td>18.5</td>\n",
       "      <td>0.5</td>\n",
       "      <td>0.5</td>\n",
       "      <td>3.95</td>\n",
       "      <td>0.0</td>\n",
       "      <td>NaN</td>\n",
       "      <td>0.3</td>\n",
       "      <td>23.75</td>\n",
       "      <td>1</td>\n",
       "      <td>1</td>\n",
       "    </tr>\n",
       "    <tr>\n",
       "      <th>1224156</th>\n",
       "      <td>1</td>\n",
       "      <td>2016-12-31 23:00:00</td>\n",
       "      <td>2016-12-31 23:10:15</td>\n",
       "      <td>N</td>\n",
       "      <td>1</td>\n",
       "      <td>244</td>\n",
       "      <td>120</td>\n",
       "      <td>3</td>\n",
       "      <td>1.60</td>\n",
       "      <td>8.5</td>\n",
       "      <td>0.5</td>\n",
       "      <td>0.5</td>\n",
       "      <td>0.00</td>\n",
       "      <td>0.0</td>\n",
       "      <td>NaN</td>\n",
       "      <td>0.3</td>\n",
       "      <td>9.80</td>\n",
       "      <td>2</td>\n",
       "      <td>1</td>\n",
       "    </tr>\n",
       "    <tr>\n",
       "      <th>1224157</th>\n",
       "      <td>1</td>\n",
       "      <td>2016-12-31 23:00:10</td>\n",
       "      <td>2016-12-31 23:04:17</td>\n",
       "      <td>N</td>\n",
       "      <td>1</td>\n",
       "      <td>7</td>\n",
       "      <td>7</td>\n",
       "      <td>1</td>\n",
       "      <td>0.70</td>\n",
       "      <td>5.0</td>\n",
       "      <td>0.5</td>\n",
       "      <td>0.5</td>\n",
       "      <td>0.00</td>\n",
       "      <td>0.0</td>\n",
       "      <td>NaN</td>\n",
       "      <td>0.3</td>\n",
       "      <td>6.30</td>\n",
       "      <td>2</td>\n",
       "      <td>1</td>\n",
       "    </tr>\n",
       "  </tbody>\n",
       "</table>\n",
       "<p>1224158 rows × 19 columns</p>\n",
       "</div>"
      ],
      "text/plain": [
       "         VendorID lpep_pickup_datetime lpep_dropoff_datetime  \\\n",
       "0               2  2016-12-01 00:00:54   2016-12-01 00:06:54   \n",
       "1               2  2016-12-01 00:52:41   2016-12-01 00:54:51   \n",
       "2               2  2016-12-01 00:10:39   2016-12-01 00:14:47   \n",
       "3               2  2016-12-01 00:12:16   2016-12-01 00:15:31   \n",
       "4               2  2016-12-01 00:29:22   2016-12-01 00:39:51   \n",
       "...           ...                  ...                   ...   \n",
       "1224153         1  2016-12-31 23:00:16   2016-12-31 23:05:30   \n",
       "1224154         1  2016-12-31 23:00:20   2016-12-31 23:04:05   \n",
       "1224155         1  2016-12-31 23:00:08   2016-12-31 23:15:57   \n",
       "1224156         1  2016-12-31 23:00:00   2016-12-31 23:10:15   \n",
       "1224157         1  2016-12-31 23:00:10   2016-12-31 23:04:17   \n",
       "\n",
       "        store_and_fwd_flag  RatecodeID  PULocationID  DOLocationID  \\\n",
       "0                        N           1            92           192   \n",
       "1                        N           1            92           171   \n",
       "2                        N           1            75           238   \n",
       "3                        N           1           166           151   \n",
       "4                        N           1           166            42   \n",
       "...                    ...         ...           ...           ...   \n",
       "1224153                  N           1            74            75   \n",
       "1224154                  N           1            42            41   \n",
       "1224155                  N           1           243           159   \n",
       "1224156                  N           1           244           120   \n",
       "1224157                  N           1             7             7   \n",
       "\n",
       "         passenger_count  trip_distance  fare_amount  extra  mta_tax  \\\n",
       "0                      1           1.29          6.5    0.5      0.5   \n",
       "1                      1           0.64          4.0    0.5      0.5   \n",
       "2                      2           0.89          5.5    0.5      0.5   \n",
       "3                      1           0.66          4.5    0.5      0.5   \n",
       "4                      1           2.15          9.5    0.5      0.5   \n",
       "...                  ...            ...          ...    ...      ...   \n",
       "1224153                1           1.20          6.0    0.5      0.5   \n",
       "1224154                3           1.00          5.5    0.5      0.5   \n",
       "1224155                1           5.30         18.5    0.5      0.5   \n",
       "1224156                3           1.60          8.5    0.5      0.5   \n",
       "1224157                1           0.70          5.0    0.5      0.5   \n",
       "\n",
       "         tip_amount  tolls_amount  ehail_fee  improvement_surcharge  \\\n",
       "0              0.00           0.0        NaN                    0.3   \n",
       "1              1.06           0.0        NaN                    0.3   \n",
       "2              1.70           0.0        NaN                    0.3   \n",
       "3              1.74           0.0        NaN                    0.3   \n",
       "4              2.16           0.0        NaN                    0.3   \n",
       "...             ...           ...        ...                    ...   \n",
       "1224153        0.00           0.0        NaN                    0.3   \n",
       "1224154        0.00           0.0        NaN                    0.3   \n",
       "1224155        3.95           0.0        NaN                    0.3   \n",
       "1224156        0.00           0.0        NaN                    0.3   \n",
       "1224157        0.00           0.0        NaN                    0.3   \n",
       "\n",
       "         total_amount  payment_type  trip_type  \n",
       "0                7.80             2          1  \n",
       "1                6.36             1          1  \n",
       "2                8.50             1          1  \n",
       "3                7.54             1          1  \n",
       "4               12.96             1          1  \n",
       "...               ...           ...        ...  \n",
       "1224153          7.30             2          1  \n",
       "1224154          6.80             2          1  \n",
       "1224155         23.75             1          1  \n",
       "1224156          9.80             2          1  \n",
       "1224157          6.30             2          1  \n",
       "\n",
       "[1224158 rows x 19 columns]"
      ]
     },
     "execution_count": 57,
     "metadata": {},
     "output_type": "execute_result"
    }
   ],
   "source": [
    "pd.read_csv('./green_tripdata_2016-12.csv.gz',compression='gzip',index_col=False)"
   ]
  },
  {
   "cell_type": "code",
   "execution_count": null,
   "id": "910d8af6-674e-41e3-a3a1-a7252fb40b6a",
   "metadata": {},
   "outputs": [],
   "source": []
  }
 ],
 "metadata": {
  "kernelspec": {
   "display_name": "Python 3 (ipykernel)",
   "language": "python",
   "name": "python3"
  },
  "language_info": {
   "codemirror_mode": {
    "name": "ipython",
    "version": 3
   },
   "file_extension": ".py",
   "mimetype": "text/x-python",
   "name": "python",
   "nbconvert_exporter": "python",
   "pygments_lexer": "ipython3",
   "version": "3.8.2"
  }
 },
 "nbformat": 4,
 "nbformat_minor": 5
}
